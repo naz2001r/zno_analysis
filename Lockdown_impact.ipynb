{
 "cells": [
  {
   "attachments": {},
   "cell_type": "markdown",
   "id": "ec673ad9",
   "metadata": {},
   "source": [
    "# Lockdown impact and approximate test complexity by years\n",
    "\n",
    "The main idea of this research is to predict, based on the 2018 data, what the average scores of students in the following years would be if they took the same test in 2018, which will allow us to see whether there is any difference in the difficulty of the test and the impact of COVID in certain years."
   ]
  },
  {
   "cell_type": "code",
   "execution_count": 51,
   "id": "c5211e61",
   "metadata": {},
   "outputs": [],
   "source": [
    "import pandas as pd\n",
    "import numpy as np\n",
    "pd.set_option('display.max_columns', None)\n",
    "import matplotlib.pyplot as plt\n",
    "from sklearn.preprocessing import LabelEncoder\n",
    "from sklearn.model_selection import train_test_split, RandomizedSearchCV\n",
    "from sklearn.ensemble import RandomForestRegressor\n",
    "from sklearn.metrics import mean_squared_error, mean_absolute_percentage_error\n",
    "import seaborn as sns\n",
    "pd.options.mode.chained_assignment = None"
   ]
  },
  {
   "cell_type": "code",
   "execution_count": 2,
   "id": "e61e1909",
   "metadata": {},
   "outputs": [
    {
     "name": "stderr",
     "output_type": "stream",
     "text": [
      "C:\\Users\\Уляна\\AppData\\Local\\Temp\\ipykernel_18748\\467119846.py:1: DtypeWarning: Columns (83,84,85,86,87,88,102) have mixed types. Specify dtype option on import or set low_memory=False.\n",
      "  zno = pd.read_csv('zno_preprocessed.csv')\n"
     ]
    }
   ],
   "source": [
    "zno = pd.read_csv('zno_preprocessed.csv')"
   ]
  },
  {
   "cell_type": "code",
   "execution_count": 3,
   "id": "2690afaf",
   "metadata": {},
   "outputs": [],
   "source": [
    "zno2 = zno[['year', 'tertypename','regtypename', 'birth', 'sextypename', 'regname', 'areaname', 'tername','eoname', 'ukrtest', 'ukrteststatus', 'ukrball', 'histtest', 'histteststatus', 'histball',\n",
    "     'mathtest','mathteststatus', 'mathball','phystest', 'physteststatus','physball' ,'chemtest', 'chemteststatus','chemball','biotest','bioteststatus','bioball',\n",
    "    'geotest', 'geoteststatus','geoball', 'engtest', 'engteststatus', 'engball', 'deutest', 'deuteststatus','deuball', 'fratest', 'frateststatus', 'fraball','spatest', \n",
    "    'spateststatus', 'spaball']]\n",
    "zno2['eoname'].fillna('інше', inplace=True)"
   ]
  },
  {
   "cell_type": "markdown",
   "id": "d2104259",
   "metadata": {},
   "source": [
    "# Ukrainian"
   ]
  },
  {
   "cell_type": "code",
   "execution_count": 17,
   "id": "be8bb2eb",
   "metadata": {},
   "outputs": [],
   "source": [
    "zno_ukr = zno2[['year', 'tertypename', 'eoname','regtypename', 'birth', 'sextypename', 'regname', 'ukrtest', 'ukrteststatus', 'ukrball']]\n",
    "zno_ukr=zno_ukr.dropna(axis='rows')\n",
    "#zno_ukr.sort_values(by='ukrball', inplace=True)\n",
    "zno_ukr = zno_ukr[zno_ukr['ukrball'] != 0.0] \n",
    "zno_ukr = zno_ukr.replace('селище, село', 'село')\n",
    "zno_ukr.loc[zno_ukr['tertypename'] != 'місто', 'tertypename'] = 'село'"
   ]
  },
  {
   "cell_type": "code",
   "execution_count": 18,
   "id": "be775f7d",
   "metadata": {},
   "outputs": [],
   "source": [
    "zno_ukr.loc[zno_ukr[\"year\"] == 2018, 'ukrball'] = zno_ukr.loc[zno_ukr[\"year\"] == 2018]['ukrball']/ (zno_ukr.loc[zno_ukr[\"year\"] == 2018]['ukrball']).max()\n",
    "zno_ukr.loc[zno_ukr[\"year\"] == 2019, 'ukrball'] = zno_ukr.loc[zno_ukr[\"year\"] == 2019]['ukrball']/ (zno_ukr.loc[zno_ukr[\"year\"] == 2019]['ukrball']).max()\n",
    "zno_ukr.loc[zno_ukr[\"year\"] == 2020, 'ukrball'] = zno_ukr.loc[zno_ukr[\"year\"] == 2020]['ukrball']/ (zno_ukr.loc[zno_ukr[\"year\"] == 2020]['ukrball']).max()\n",
    "zno_ukr.loc[zno_ukr[\"year\"] == 2021, 'ukrball'] = zno_ukr.loc[zno_ukr[\"year\"] == 2021]['ukrball']/ (zno_ukr.loc[zno_ukr[\"year\"] == 2021]['ukrball']).max()\n"
   ]
  },
  {
   "cell_type": "code",
   "execution_count": 19,
   "id": "e5f96dcc",
   "metadata": {},
   "outputs": [
    {
     "data": {
      "text/html": [
       "<div>\n",
       "<style scoped>\n",
       "    .dataframe tbody tr th:only-of-type {\n",
       "        vertical-align: middle;\n",
       "    }\n",
       "\n",
       "    .dataframe tbody tr th {\n",
       "        vertical-align: top;\n",
       "    }\n",
       "\n",
       "    .dataframe thead th {\n",
       "        text-align: right;\n",
       "    }\n",
       "</style>\n",
       "<table border=\"1\" class=\"dataframe\">\n",
       "  <thead>\n",
       "    <tr style=\"text-align: right;\">\n",
       "      <th></th>\n",
       "      <th>year</th>\n",
       "      <th>tertypename</th>\n",
       "      <th>eoname</th>\n",
       "      <th>regtypename</th>\n",
       "      <th>birth</th>\n",
       "      <th>sextypename</th>\n",
       "      <th>regname</th>\n",
       "      <th>ukrteststatus</th>\n",
       "      <th>ukrball</th>\n",
       "    </tr>\n",
       "  </thead>\n",
       "  <tbody>\n",
       "    <tr>\n",
       "      <th>0</th>\n",
       "      <td>2018</td>\n",
       "      <td>село</td>\n",
       "      <td>Косоньська загальноосвітня школа І-ІІІ ступені...</td>\n",
       "      <td>Випускник української школи поточного року</td>\n",
       "      <td>2001</td>\n",
       "      <td>чоловіча</td>\n",
       "      <td>Закарпатська область</td>\n",
       "      <td>Не подолав поріг</td>\n",
       "      <td>0.144231</td>\n",
       "    </tr>\n",
       "    <tr>\n",
       "      <th>1</th>\n",
       "      <td>2018</td>\n",
       "      <td>місто</td>\n",
       "      <td>Броварська спеціалізована школа І-ІІІ ступенів...</td>\n",
       "      <td>Випускник української школи поточного року</td>\n",
       "      <td>2001</td>\n",
       "      <td>жіноча</td>\n",
       "      <td>Київська область</td>\n",
       "      <td>Зараховано</td>\n",
       "      <td>0.836538</td>\n",
       "    </tr>\n",
       "    <tr>\n",
       "      <th>2</th>\n",
       "      <td>2018</td>\n",
       "      <td>місто</td>\n",
       "      <td>Харківська гімназія № 12 Харківської міської р...</td>\n",
       "      <td>Випускник української школи поточного року</td>\n",
       "      <td>2000</td>\n",
       "      <td>жіноча</td>\n",
       "      <td>Харківська область</td>\n",
       "      <td>Зараховано</td>\n",
       "      <td>0.846154</td>\n",
       "    </tr>\n",
       "    <tr>\n",
       "      <th>3</th>\n",
       "      <td>2018</td>\n",
       "      <td>місто</td>\n",
       "      <td>Млинівська загальноосвітня школа І-ІІІ ступені...</td>\n",
       "      <td>Випускник української школи поточного року</td>\n",
       "      <td>2000</td>\n",
       "      <td>чоловіча</td>\n",
       "      <td>Рівненська область</td>\n",
       "      <td>Зараховано</td>\n",
       "      <td>0.326923</td>\n",
       "    </tr>\n",
       "    <tr>\n",
       "      <th>4</th>\n",
       "      <td>2018</td>\n",
       "      <td>місто</td>\n",
       "      <td>Державний професійно-технічний навчальний закл...</td>\n",
       "      <td>Випускник коледжу</td>\n",
       "      <td>1999</td>\n",
       "      <td>чоловіча</td>\n",
       "      <td>Рівненська область</td>\n",
       "      <td>Зараховано</td>\n",
       "      <td>0.250000</td>\n",
       "    </tr>\n",
       "  </tbody>\n",
       "</table>\n",
       "</div>"
      ],
      "text/plain": [
       "   year tertypename                                             eoname  \\\n",
       "0  2018        село  Косоньська загальноосвітня школа І-ІІІ ступені...   \n",
       "1  2018       місто  Броварська спеціалізована школа І-ІІІ ступенів...   \n",
       "2  2018       місто  Харківська гімназія № 12 Харківської міської р...   \n",
       "3  2018       місто  Млинівська загальноосвітня школа І-ІІІ ступені...   \n",
       "4  2018       місто  Державний професійно-технічний навчальний закл...   \n",
       "\n",
       "                                  regtypename  birth sextypename  \\\n",
       "0  Випускник української школи поточного року   2001    чоловіча   \n",
       "1  Випускник української школи поточного року   2001      жіноча   \n",
       "2  Випускник української школи поточного року   2000      жіноча   \n",
       "3  Випускник української школи поточного року   2000    чоловіча   \n",
       "4                           Випускник коледжу   1999    чоловіча   \n",
       "\n",
       "                regname     ukrteststatus   ukrball  \n",
       "0  Закарпатська область  Не подолав поріг  0.144231  \n",
       "1      Київська область        Зараховано  0.836538  \n",
       "2    Харківська область        Зараховано  0.846154  \n",
       "3    Рівненська область        Зараховано  0.326923  \n",
       "4    Рівненська область        Зараховано  0.250000  "
      ]
     },
     "execution_count": 19,
     "metadata": {},
     "output_type": "execute_result"
    }
   ],
   "source": [
    "zno_ukr_model = zno_ukr[['year', 'tertypename', 'eoname', 'regtypename', \n",
    "                         'birth', 'sextypename', 'regname', 'ukrteststatus', 'ukrball']]\n",
    "zno_ukr_model.head()"
   ]
  },
  {
   "cell_type": "code",
   "execution_count": 20,
   "id": "ea559eb2",
   "metadata": {},
   "outputs": [],
   "source": [
    "labelencoder = LabelEncoder()\n",
    "zno_ukr_model[['tertypename', 'eoname', \n",
    "               'regtypename','sextypename', \n",
    "               'regname', 'ukrteststatus']] = zno_ukr_model[['tertypename', 'eoname', \n",
    "               'regtypename','sextypename', \n",
    "               'regname', 'ukrteststatus']].apply(LabelEncoder().fit_transform)"
   ]
  },
  {
   "cell_type": "code",
   "execution_count": 21,
   "id": "493a5b54",
   "metadata": {},
   "outputs": [],
   "source": [
    "df_ukr_2018 = zno_ukr_model[(zno_ukr_model['year'] == 2018)]\n",
    "\n",
    "ukr_x_train,ukr_x_test, ukr_y_train, ukr_y_test = train_test_split(df_ukr_2018.drop('ukrball', axis=1), df_ukr_2018['ukrball'], random_state=42, train_size=0.7)\n"
   ]
  },
  {
   "cell_type": "code",
   "execution_count": 22,
   "id": "372d23a7",
   "metadata": {},
   "outputs": [],
   "source": [
    "n_estimators = [int(x) for x in np.linspace(start = 50, stop = 500, num = 10)]\n",
    "# Number of features to consider at every split\n",
    "max_features = ['auto', 'sqrt']\n",
    "# Maximum number of levels in tree\n",
    "max_depth = [int(x) for x in np.linspace(10, 110, num = 5)]\n",
    "max_depth.append(None)\n",
    "# Minimum number of samples required to split a node\n",
    "min_samples_split = [2, 5, 10]\n",
    "# Minimum number of samples required at each leaf node\n",
    "min_samples_leaf = [1, 2, 4]\n",
    "\n",
    "# Create the random grid\n",
    "random_grid = {'n_estimators': n_estimators,\n",
    "               'max_features': max_features,\n",
    "               'max_depth': max_depth,\n",
    "               'min_samples_split': min_samples_split,\n",
    "               'min_samples_leaf': min_samples_leaf}\n"
   ]
  },
  {
   "cell_type": "code",
   "execution_count": 23,
   "id": "9cb2f2b4",
   "metadata": {
    "scrolled": true
   },
   "outputs": [
    {
     "name": "stdout",
     "output_type": "stream",
     "text": [
      "Fitting 3 folds for each of 100 candidates, totalling 300 fits\n"
     ]
    },
    {
     "name": "stderr",
     "output_type": "stream",
     "text": [
      "C:\\anaconda3\\lib\\site-packages\\sklearn\\ensemble\\_forest.py:413: FutureWarning: `max_features='auto'` has been deprecated in 1.1 and will be removed in 1.3. To keep the past behaviour, explicitly set `max_features=1.0` or remove this parameter as it is also the default value for RandomForestRegressors and ExtraTreesRegressors.\n",
      "  warn(\n"
     ]
    },
    {
     "data": {
      "text/html": [
       "<style>#sk-container-id-3 {color: black;background-color: white;}#sk-container-id-3 pre{padding: 0;}#sk-container-id-3 div.sk-toggleable {background-color: white;}#sk-container-id-3 label.sk-toggleable__label {cursor: pointer;display: block;width: 100%;margin-bottom: 0;padding: 0.3em;box-sizing: border-box;text-align: center;}#sk-container-id-3 label.sk-toggleable__label-arrow:before {content: \"▸\";float: left;margin-right: 0.25em;color: #696969;}#sk-container-id-3 label.sk-toggleable__label-arrow:hover:before {color: black;}#sk-container-id-3 div.sk-estimator:hover label.sk-toggleable__label-arrow:before {color: black;}#sk-container-id-3 div.sk-toggleable__content {max-height: 0;max-width: 0;overflow: hidden;text-align: left;background-color: #f0f8ff;}#sk-container-id-3 div.sk-toggleable__content pre {margin: 0.2em;color: black;border-radius: 0.25em;background-color: #f0f8ff;}#sk-container-id-3 input.sk-toggleable__control:checked~div.sk-toggleable__content {max-height: 200px;max-width: 100%;overflow: auto;}#sk-container-id-3 input.sk-toggleable__control:checked~label.sk-toggleable__label-arrow:before {content: \"▾\";}#sk-container-id-3 div.sk-estimator input.sk-toggleable__control:checked~label.sk-toggleable__label {background-color: #d4ebff;}#sk-container-id-3 div.sk-label input.sk-toggleable__control:checked~label.sk-toggleable__label {background-color: #d4ebff;}#sk-container-id-3 input.sk-hidden--visually {border: 0;clip: rect(1px 1px 1px 1px);clip: rect(1px, 1px, 1px, 1px);height: 1px;margin: -1px;overflow: hidden;padding: 0;position: absolute;width: 1px;}#sk-container-id-3 div.sk-estimator {font-family: monospace;background-color: #f0f8ff;border: 1px dotted black;border-radius: 0.25em;box-sizing: border-box;margin-bottom: 0.5em;}#sk-container-id-3 div.sk-estimator:hover {background-color: #d4ebff;}#sk-container-id-3 div.sk-parallel-item::after {content: \"\";width: 100%;border-bottom: 1px solid gray;flex-grow: 1;}#sk-container-id-3 div.sk-label:hover label.sk-toggleable__label {background-color: #d4ebff;}#sk-container-id-3 div.sk-serial::before {content: \"\";position: absolute;border-left: 1px solid gray;box-sizing: border-box;top: 0;bottom: 0;left: 50%;z-index: 0;}#sk-container-id-3 div.sk-serial {display: flex;flex-direction: column;align-items: center;background-color: white;padding-right: 0.2em;padding-left: 0.2em;position: relative;}#sk-container-id-3 div.sk-item {position: relative;z-index: 1;}#sk-container-id-3 div.sk-parallel {display: flex;align-items: stretch;justify-content: center;background-color: white;position: relative;}#sk-container-id-3 div.sk-item::before, #sk-container-id-3 div.sk-parallel-item::before {content: \"\";position: absolute;border-left: 1px solid gray;box-sizing: border-box;top: 0;bottom: 0;left: 50%;z-index: -1;}#sk-container-id-3 div.sk-parallel-item {display: flex;flex-direction: column;z-index: 1;position: relative;background-color: white;}#sk-container-id-3 div.sk-parallel-item:first-child::after {align-self: flex-end;width: 50%;}#sk-container-id-3 div.sk-parallel-item:last-child::after {align-self: flex-start;width: 50%;}#sk-container-id-3 div.sk-parallel-item:only-child::after {width: 0;}#sk-container-id-3 div.sk-dashed-wrapped {border: 1px dashed gray;margin: 0 0.4em 0.5em 0.4em;box-sizing: border-box;padding-bottom: 0.4em;background-color: white;}#sk-container-id-3 div.sk-label label {font-family: monospace;font-weight: bold;display: inline-block;line-height: 1.2em;}#sk-container-id-3 div.sk-label-container {text-align: center;}#sk-container-id-3 div.sk-container {/* jupyter's `normalize.less` sets `[hidden] { display: none; }` but bootstrap.min.css set `[hidden] { display: none !important; }` so we also need the `!important` here to be able to override the default hidden behavior on the sphinx rendered scikit-learn.org. See: https://github.com/scikit-learn/scikit-learn/issues/21755 */display: inline-block !important;position: relative;}#sk-container-id-3 div.sk-text-repr-fallback {display: none;}</style><div id=\"sk-container-id-3\" class=\"sk-top-container\"><div class=\"sk-text-repr-fallback\"><pre>RandomizedSearchCV(cv=3, estimator=RandomForestRegressor(), n_iter=100,\n",
       "                   n_jobs=-1,\n",
       "                   param_distributions={&#x27;max_depth&#x27;: [10, 35, 60, 85, 110,\n",
       "                                                      None],\n",
       "                                        &#x27;max_features&#x27;: [&#x27;auto&#x27;, &#x27;sqrt&#x27;],\n",
       "                                        &#x27;min_samples_leaf&#x27;: [1, 2, 4],\n",
       "                                        &#x27;min_samples_split&#x27;: [2, 5, 10],\n",
       "                                        &#x27;n_estimators&#x27;: [50, 100, 150, 200, 250,\n",
       "                                                         300, 350, 400, 450,\n",
       "                                                         500]},\n",
       "                   random_state=42, verbose=2)</pre><b>In a Jupyter environment, please rerun this cell to show the HTML representation or trust the notebook. <br />On GitHub, the HTML representation is unable to render, please try loading this page with nbviewer.org.</b></div><div class=\"sk-container\" hidden><div class=\"sk-item sk-dashed-wrapped\"><div class=\"sk-label-container\"><div class=\"sk-label sk-toggleable\"><input class=\"sk-toggleable__control sk-hidden--visually\" id=\"sk-estimator-id-5\" type=\"checkbox\" ><label for=\"sk-estimator-id-5\" class=\"sk-toggleable__label sk-toggleable__label-arrow\">RandomizedSearchCV</label><div class=\"sk-toggleable__content\"><pre>RandomizedSearchCV(cv=3, estimator=RandomForestRegressor(), n_iter=100,\n",
       "                   n_jobs=-1,\n",
       "                   param_distributions={&#x27;max_depth&#x27;: [10, 35, 60, 85, 110,\n",
       "                                                      None],\n",
       "                                        &#x27;max_features&#x27;: [&#x27;auto&#x27;, &#x27;sqrt&#x27;],\n",
       "                                        &#x27;min_samples_leaf&#x27;: [1, 2, 4],\n",
       "                                        &#x27;min_samples_split&#x27;: [2, 5, 10],\n",
       "                                        &#x27;n_estimators&#x27;: [50, 100, 150, 200, 250,\n",
       "                                                         300, 350, 400, 450,\n",
       "                                                         500]},\n",
       "                   random_state=42, verbose=2)</pre></div></div></div><div class=\"sk-parallel\"><div class=\"sk-parallel-item\"><div class=\"sk-item\"><div class=\"sk-label-container\"><div class=\"sk-label sk-toggleable\"><input class=\"sk-toggleable__control sk-hidden--visually\" id=\"sk-estimator-id-6\" type=\"checkbox\" ><label for=\"sk-estimator-id-6\" class=\"sk-toggleable__label sk-toggleable__label-arrow\">estimator: RandomForestRegressor</label><div class=\"sk-toggleable__content\"><pre>RandomForestRegressor()</pre></div></div></div><div class=\"sk-serial\"><div class=\"sk-item\"><div class=\"sk-estimator sk-toggleable\"><input class=\"sk-toggleable__control sk-hidden--visually\" id=\"sk-estimator-id-7\" type=\"checkbox\" ><label for=\"sk-estimator-id-7\" class=\"sk-toggleable__label sk-toggleable__label-arrow\">RandomForestRegressor</label><div class=\"sk-toggleable__content\"><pre>RandomForestRegressor()</pre></div></div></div></div></div></div></div></div></div></div>"
      ],
      "text/plain": [
       "RandomizedSearchCV(cv=3, estimator=RandomForestRegressor(), n_iter=100,\n",
       "                   n_jobs=-1,\n",
       "                   param_distributions={'max_depth': [10, 35, 60, 85, 110,\n",
       "                                                      None],\n",
       "                                        'max_features': ['auto', 'sqrt'],\n",
       "                                        'min_samples_leaf': [1, 2, 4],\n",
       "                                        'min_samples_split': [2, 5, 10],\n",
       "                                        'n_estimators': [50, 100, 150, 200, 250,\n",
       "                                                         300, 350, 400, 450,\n",
       "                                                         500]},\n",
       "                   random_state=42, verbose=2)"
      ]
     },
     "execution_count": 23,
     "metadata": {},
     "output_type": "execute_result"
    }
   ],
   "source": [
    "rf=RandomForestRegressor()\n",
    "rf_random = RandomizedSearchCV(estimator = rf, param_distributions = random_grid, n_iter = 100, cv = 3, verbose=2, random_state=42, n_jobs = -1)\n",
    "# Fit the random search model\n",
    "rf_random.fit(ukr_x_train, ukr_y_train)"
   ]
  },
  {
   "cell_type": "code",
   "execution_count": 24,
   "id": "9835e6fe",
   "metadata": {},
   "outputs": [
    {
     "data": {
      "text/html": [
       "<style>#sk-container-id-4 {color: black;background-color: white;}#sk-container-id-4 pre{padding: 0;}#sk-container-id-4 div.sk-toggleable {background-color: white;}#sk-container-id-4 label.sk-toggleable__label {cursor: pointer;display: block;width: 100%;margin-bottom: 0;padding: 0.3em;box-sizing: border-box;text-align: center;}#sk-container-id-4 label.sk-toggleable__label-arrow:before {content: \"▸\";float: left;margin-right: 0.25em;color: #696969;}#sk-container-id-4 label.sk-toggleable__label-arrow:hover:before {color: black;}#sk-container-id-4 div.sk-estimator:hover label.sk-toggleable__label-arrow:before {color: black;}#sk-container-id-4 div.sk-toggleable__content {max-height: 0;max-width: 0;overflow: hidden;text-align: left;background-color: #f0f8ff;}#sk-container-id-4 div.sk-toggleable__content pre {margin: 0.2em;color: black;border-radius: 0.25em;background-color: #f0f8ff;}#sk-container-id-4 input.sk-toggleable__control:checked~div.sk-toggleable__content {max-height: 200px;max-width: 100%;overflow: auto;}#sk-container-id-4 input.sk-toggleable__control:checked~label.sk-toggleable__label-arrow:before {content: \"▾\";}#sk-container-id-4 div.sk-estimator input.sk-toggleable__control:checked~label.sk-toggleable__label {background-color: #d4ebff;}#sk-container-id-4 div.sk-label input.sk-toggleable__control:checked~label.sk-toggleable__label {background-color: #d4ebff;}#sk-container-id-4 input.sk-hidden--visually {border: 0;clip: rect(1px 1px 1px 1px);clip: rect(1px, 1px, 1px, 1px);height: 1px;margin: -1px;overflow: hidden;padding: 0;position: absolute;width: 1px;}#sk-container-id-4 div.sk-estimator {font-family: monospace;background-color: #f0f8ff;border: 1px dotted black;border-radius: 0.25em;box-sizing: border-box;margin-bottom: 0.5em;}#sk-container-id-4 div.sk-estimator:hover {background-color: #d4ebff;}#sk-container-id-4 div.sk-parallel-item::after {content: \"\";width: 100%;border-bottom: 1px solid gray;flex-grow: 1;}#sk-container-id-4 div.sk-label:hover label.sk-toggleable__label {background-color: #d4ebff;}#sk-container-id-4 div.sk-serial::before {content: \"\";position: absolute;border-left: 1px solid gray;box-sizing: border-box;top: 0;bottom: 0;left: 50%;z-index: 0;}#sk-container-id-4 div.sk-serial {display: flex;flex-direction: column;align-items: center;background-color: white;padding-right: 0.2em;padding-left: 0.2em;position: relative;}#sk-container-id-4 div.sk-item {position: relative;z-index: 1;}#sk-container-id-4 div.sk-parallel {display: flex;align-items: stretch;justify-content: center;background-color: white;position: relative;}#sk-container-id-4 div.sk-item::before, #sk-container-id-4 div.sk-parallel-item::before {content: \"\";position: absolute;border-left: 1px solid gray;box-sizing: border-box;top: 0;bottom: 0;left: 50%;z-index: -1;}#sk-container-id-4 div.sk-parallel-item {display: flex;flex-direction: column;z-index: 1;position: relative;background-color: white;}#sk-container-id-4 div.sk-parallel-item:first-child::after {align-self: flex-end;width: 50%;}#sk-container-id-4 div.sk-parallel-item:last-child::after {align-self: flex-start;width: 50%;}#sk-container-id-4 div.sk-parallel-item:only-child::after {width: 0;}#sk-container-id-4 div.sk-dashed-wrapped {border: 1px dashed gray;margin: 0 0.4em 0.5em 0.4em;box-sizing: border-box;padding-bottom: 0.4em;background-color: white;}#sk-container-id-4 div.sk-label label {font-family: monospace;font-weight: bold;display: inline-block;line-height: 1.2em;}#sk-container-id-4 div.sk-label-container {text-align: center;}#sk-container-id-4 div.sk-container {/* jupyter's `normalize.less` sets `[hidden] { display: none; }` but bootstrap.min.css set `[hidden] { display: none !important; }` so we also need the `!important` here to be able to override the default hidden behavior on the sphinx rendered scikit-learn.org. See: https://github.com/scikit-learn/scikit-learn/issues/21755 */display: inline-block !important;position: relative;}#sk-container-id-4 div.sk-text-repr-fallback {display: none;}</style><div id=\"sk-container-id-4\" class=\"sk-top-container\"><div class=\"sk-text-repr-fallback\"><pre>RandomForestRegressor(max_features=&#x27;auto&#x27;, min_samples_leaf=4,\n",
       "                      min_samples_split=10, n_estimators=400)</pre><b>In a Jupyter environment, please rerun this cell to show the HTML representation or trust the notebook. <br />On GitHub, the HTML representation is unable to render, please try loading this page with nbviewer.org.</b></div><div class=\"sk-container\" hidden><div class=\"sk-item\"><div class=\"sk-estimator sk-toggleable\"><input class=\"sk-toggleable__control sk-hidden--visually\" id=\"sk-estimator-id-8\" type=\"checkbox\" checked><label for=\"sk-estimator-id-8\" class=\"sk-toggleable__label sk-toggleable__label-arrow\">RandomForestRegressor</label><div class=\"sk-toggleable__content\"><pre>RandomForestRegressor(max_features=&#x27;auto&#x27;, min_samples_leaf=4,\n",
       "                      min_samples_split=10, n_estimators=400)</pre></div></div></div></div></div>"
      ],
      "text/plain": [
       "RandomForestRegressor(max_features='auto', min_samples_leaf=4,\n",
       "                      min_samples_split=10, n_estimators=400)"
      ]
     },
     "execution_count": 24,
     "metadata": {},
     "output_type": "execute_result"
    }
   ],
   "source": [
    "rf_random.best_estimator_"
   ]
  },
  {
   "cell_type": "code",
   "execution_count": 52,
   "id": "029c0aaa",
   "metadata": {},
   "outputs": [
    {
     "name": "stderr",
     "output_type": "stream",
     "text": [
      "C:\\anaconda3\\lib\\site-packages\\sklearn\\ensemble\\_forest.py:413: FutureWarning: `max_features='auto'` has been deprecated in 1.1 and will be removed in 1.3. To keep the past behaviour, explicitly set `max_features=1.0` or remove this parameter as it is also the default value for RandomForestRegressors and ExtraTreesRegressors.\n",
      "  warn(\n"
     ]
    },
    {
     "data": {
      "text/html": [
       "<style>#sk-container-id-11 {color: black;background-color: white;}#sk-container-id-11 pre{padding: 0;}#sk-container-id-11 div.sk-toggleable {background-color: white;}#sk-container-id-11 label.sk-toggleable__label {cursor: pointer;display: block;width: 100%;margin-bottom: 0;padding: 0.3em;box-sizing: border-box;text-align: center;}#sk-container-id-11 label.sk-toggleable__label-arrow:before {content: \"▸\";float: left;margin-right: 0.25em;color: #696969;}#sk-container-id-11 label.sk-toggleable__label-arrow:hover:before {color: black;}#sk-container-id-11 div.sk-estimator:hover label.sk-toggleable__label-arrow:before {color: black;}#sk-container-id-11 div.sk-toggleable__content {max-height: 0;max-width: 0;overflow: hidden;text-align: left;background-color: #f0f8ff;}#sk-container-id-11 div.sk-toggleable__content pre {margin: 0.2em;color: black;border-radius: 0.25em;background-color: #f0f8ff;}#sk-container-id-11 input.sk-toggleable__control:checked~div.sk-toggleable__content {max-height: 200px;max-width: 100%;overflow: auto;}#sk-container-id-11 input.sk-toggleable__control:checked~label.sk-toggleable__label-arrow:before {content: \"▾\";}#sk-container-id-11 div.sk-estimator input.sk-toggleable__control:checked~label.sk-toggleable__label {background-color: #d4ebff;}#sk-container-id-11 div.sk-label input.sk-toggleable__control:checked~label.sk-toggleable__label {background-color: #d4ebff;}#sk-container-id-11 input.sk-hidden--visually {border: 0;clip: rect(1px 1px 1px 1px);clip: rect(1px, 1px, 1px, 1px);height: 1px;margin: -1px;overflow: hidden;padding: 0;position: absolute;width: 1px;}#sk-container-id-11 div.sk-estimator {font-family: monospace;background-color: #f0f8ff;border: 1px dotted black;border-radius: 0.25em;box-sizing: border-box;margin-bottom: 0.5em;}#sk-container-id-11 div.sk-estimator:hover {background-color: #d4ebff;}#sk-container-id-11 div.sk-parallel-item::after {content: \"\";width: 100%;border-bottom: 1px solid gray;flex-grow: 1;}#sk-container-id-11 div.sk-label:hover label.sk-toggleable__label {background-color: #d4ebff;}#sk-container-id-11 div.sk-serial::before {content: \"\";position: absolute;border-left: 1px solid gray;box-sizing: border-box;top: 0;bottom: 0;left: 50%;z-index: 0;}#sk-container-id-11 div.sk-serial {display: flex;flex-direction: column;align-items: center;background-color: white;padding-right: 0.2em;padding-left: 0.2em;position: relative;}#sk-container-id-11 div.sk-item {position: relative;z-index: 1;}#sk-container-id-11 div.sk-parallel {display: flex;align-items: stretch;justify-content: center;background-color: white;position: relative;}#sk-container-id-11 div.sk-item::before, #sk-container-id-11 div.sk-parallel-item::before {content: \"\";position: absolute;border-left: 1px solid gray;box-sizing: border-box;top: 0;bottom: 0;left: 50%;z-index: -1;}#sk-container-id-11 div.sk-parallel-item {display: flex;flex-direction: column;z-index: 1;position: relative;background-color: white;}#sk-container-id-11 div.sk-parallel-item:first-child::after {align-self: flex-end;width: 50%;}#sk-container-id-11 div.sk-parallel-item:last-child::after {align-self: flex-start;width: 50%;}#sk-container-id-11 div.sk-parallel-item:only-child::after {width: 0;}#sk-container-id-11 div.sk-dashed-wrapped {border: 1px dashed gray;margin: 0 0.4em 0.5em 0.4em;box-sizing: border-box;padding-bottom: 0.4em;background-color: white;}#sk-container-id-11 div.sk-label label {font-family: monospace;font-weight: bold;display: inline-block;line-height: 1.2em;}#sk-container-id-11 div.sk-label-container {text-align: center;}#sk-container-id-11 div.sk-container {/* jupyter's `normalize.less` sets `[hidden] { display: none; }` but bootstrap.min.css set `[hidden] { display: none !important; }` so we also need the `!important` here to be able to override the default hidden behavior on the sphinx rendered scikit-learn.org. See: https://github.com/scikit-learn/scikit-learn/issues/21755 */display: inline-block !important;position: relative;}#sk-container-id-11 div.sk-text-repr-fallback {display: none;}</style><div id=\"sk-container-id-11\" class=\"sk-top-container\"><div class=\"sk-text-repr-fallback\"><pre>RandomForestRegressor(max_features=&#x27;auto&#x27;, min_samples_leaf=4,\n",
       "                      min_samples_split=10, n_estimators=400)</pre><b>In a Jupyter environment, please rerun this cell to show the HTML representation or trust the notebook. <br />On GitHub, the HTML representation is unable to render, please try loading this page with nbviewer.org.</b></div><div class=\"sk-container\" hidden><div class=\"sk-item\"><div class=\"sk-estimator sk-toggleable\"><input class=\"sk-toggleable__control sk-hidden--visually\" id=\"sk-estimator-id-19\" type=\"checkbox\" checked><label for=\"sk-estimator-id-19\" class=\"sk-toggleable__label sk-toggleable__label-arrow\">RandomForestRegressor</label><div class=\"sk-toggleable__content\"><pre>RandomForestRegressor(max_features=&#x27;auto&#x27;, min_samples_leaf=4,\n",
       "                      min_samples_split=10, n_estimators=400)</pre></div></div></div></div></div>"
      ],
      "text/plain": [
       "RandomForestRegressor(max_features='auto', min_samples_leaf=4,\n",
       "                      min_samples_split=10, n_estimators=400)"
      ]
     },
     "execution_count": 52,
     "metadata": {},
     "output_type": "execute_result"
    }
   ],
   "source": [
    "best_random_ukr = RandomForestRegressor(max_features='auto', min_samples_leaf=4,\n",
    "                      min_samples_split=10, n_estimators=400)\n",
    "best_random_ukr.fit(df_ukr_2018.drop('ukrball', axis=1), df_ukr_2018['ukrball'])"
   ]
  },
  {
   "cell_type": "code",
   "execution_count": 55,
   "id": "074424a2",
   "metadata": {},
   "outputs": [],
   "source": [
    "df_ukr_2019 = zno_ukr_model[(zno_ukr_model['year'] == 2019)]\n",
    "df_ukr_2020 = zno_ukr_model[(zno_ukr_model['year'] == 2020)]\n",
    "df_ukr_2021 = zno_ukr_model[(zno_ukr_model['year'] == 2021)]"
   ]
  },
  {
   "cell_type": "code",
   "execution_count": 56,
   "id": "c49c4071",
   "metadata": {},
   "outputs": [],
   "source": [
    "y_pred_2019 = best_random_ukr.predict(df_ukr_2019.drop('ukrball', axis=1))\n",
    "y_pred_2020 = best_random_ukr.predict(df_ukr_2020.drop('ukrball', axis=1))\n",
    "y_pred_2021 = best_random_ukr.predict(df_ukr_2021.drop('ukrball', axis=1))"
   ]
  },
  {
   "cell_type": "code",
   "execution_count": 57,
   "id": "cee6131d",
   "metadata": {},
   "outputs": [],
   "source": [
    "ukr_2019 = pd.concat([df_ukr_2019['ukrball'].reset_index().drop('index', axis=1),pd.Series(y_pred_2019)],axis=1)\n",
    "ukr_2020 = pd.concat([df_ukr_2020['ukrball'].reset_index().drop('index', axis=1),pd.Series(y_pred_2020)],axis=1)\n",
    "ukr_2021 = pd.concat([df_ukr_2021['ukrball'].reset_index().drop('index', axis=1),pd.Series(y_pred_2021)],axis=1)\n"
   ]
  },
  {
   "cell_type": "code",
   "execution_count": 61,
   "id": "c271c785",
   "metadata": {},
   "outputs": [
    {
     "data": {
      "text/plain": [
       "array([0.22115385, 0.65384615, 0.36538462, ..., 0.33653846, 0.40384615,\n",
       "       0.38461538])"
      ]
     },
     "execution_count": 61,
     "metadata": {},
     "output_type": "execute_result"
    }
   ],
   "source": [
    "np.array(df_ukr_2019['ukrball'])"
   ]
  },
  {
   "cell_type": "code",
   "execution_count": 65,
   "id": "abd0381f",
   "metadata": {},
   "outputs": [
    {
     "name": "stdout",
     "output_type": "stream",
     "text": [
      "Percentage error for 2019 year 30.64719077877502\n",
      "Percentage error for 2020 year 33.4686449116917\n",
      "Percentage error for 2021 year 30.98072256317556\n"
     ]
    }
   ],
   "source": [
    "print(f\"Percentage error for 2019 year {mean_absolute_percentage_error(np.array(df_ukr_2019['ukrball']), y_pred_2019)*100}\")\n",
    "print(f\"Percentage error for 2020 year {mean_absolute_percentage_error(np.array(df_ukr_2020['ukrball']), y_pred_2020)*100}\")\n",
    "print(f\"Percentage error for 2021 year {mean_absolute_percentage_error(np.array(df_ukr_2021['ukrball']), y_pred_2021)*100}\") "
   ]
  },
  {
   "cell_type": "code",
   "execution_count": 66,
   "id": "3522c0b4",
   "metadata": {},
   "outputs": [
    {
     "data": {
      "image/png": "[encoded data removed]",
      "text/plain": [
       "<Figure size 1000x700 with 1 Axes>"
      ]
     },
     "metadata": {},
     "output_type": "display_data"
    }
   ],
   "source": [
    "import seaborn as sns\n",
    "import pandas as pd\n",
    "import matplotlib.pyplot as plt\n",
    "\n",
    "\n",
    "\n",
    "# merge the three dataframes into a single dataframe\n",
    "df = pd.concat([ukr_2019, ukr_2020, ukr_2021], axis=0).rename(columns={'ukrball':'real', 0:'predicted'})\n",
    "df['Year'] = ['2019']*len(ukr_2019) + ['2020']*len(ukr_2020) + ['2021']*len(ukr_2021)\n",
    "\n",
    "# melt the dataframe to make it \"tidy\"\n",
    "df_melt = pd.melt(df, id_vars=['Year'], value_vars=['predicted', 'real'], var_name='Type', value_name='Score')\n",
    "fig = plt.figure(figsize =(10, 7))\n",
    "# create the boxplot using Seaborn\n",
    "sns.set_theme(style=\"ticks\", palette=\"pastel\")\n",
    "sns.boxplot(x='Year', y='Score', hue='Type', data=df_melt, palette='Set3', width=0.6)\n",
    "# Move the hue legend to the right side\n",
    "plt.legend(loc='center right', bbox_to_anchor=(1.2, 0.5), ncol=1)\n",
    "\n",
    "# customize the plot\n",
    "plt.title(\"Ukrainian language and literature, predicted and real\")\n",
    "plt.grid(True)\n",
    "\n",
    "# show the plot\n",
    "plt.show()\n",
    "# Draw a nested boxplot to show bills by day and time\n",
    "\n"
   ]
  },
  {
   "attachments": {},
   "cell_type": "markdown",
   "id": "c52630ec",
   "metadata": {},
   "source": [
    "When comparing the predicted distribution and the actual values in a given year, the difference between the median values of the Ukrainian language test remains the same, which does not allow us to say that the lockdown affected any teaching of the Ukrainian language or that the tests were of different complexity."
   ]
  },
  {
   "cell_type": "markdown",
   "id": "a2c77ac2",
   "metadata": {},
   "source": [
    "# Math"
   ]
  },
  {
   "cell_type": "code",
   "execution_count": 4,
   "id": "26d4500d",
   "metadata": {},
   "outputs": [],
   "source": [
    "zno_math = zno2[['year', 'tertypename', 'eoname','regtypename', \n",
    "                 'birth', 'sextypename', 'regname', 'mathtest', 'mathteststatus', 'mathball']]\n",
    "zno_math=zno_math.dropna(axis='rows')\n",
    "zno_math = zno_math[zno_math['mathball'] != 0.0] \n",
    "zno_math = zno_math.replace('селище, село', 'село')\n",
    "zno_math.loc[zno_math['tertypename'] != 'місто', 'tertypename'] = 'село'"
   ]
  },
  {
   "cell_type": "code",
   "execution_count": 5,
   "id": "f6afee04",
   "metadata": {},
   "outputs": [],
   "source": [
    "zno_math.loc[zno_math[\"year\"] == 2018, 'mathball'] = zno_math.loc[zno_math[\"year\"] == 2018]['mathball']/ (zno_math.loc[zno_math[\"year\"] == 2018]['mathball']).max()\n",
    "zno_math.loc[zno_math[\"year\"] == 2019, 'mathball'] = zno_math.loc[zno_math[\"year\"] == 2019]['mathball']/ (zno_math.loc[zno_math[\"year\"] == 2019]['mathball']).max()\n",
    "zno_math.loc[zno_math[\"year\"] == 2020, 'mathball'] = zno_math.loc[zno_math[\"year\"] == 2020]['mathball']/ (zno_math.loc[zno_math[\"year\"] == 2020]['mathball']).max()\n",
    "zno_math.loc[zno_math[\"year\"] == 2021, 'mathball'] = zno_math.loc[zno_math[\"year\"] == 2021]['mathball']/ (zno_math.loc[zno_math[\"year\"] == 2021]['mathball']).max()\n"
   ]
  },
  {
   "cell_type": "code",
   "execution_count": 6,
   "id": "0a31234e",
   "metadata": {},
   "outputs": [
    {
     "data": {
      "text/html": [
       "<div>\n",
       "<style scoped>\n",
       "    .dataframe tbody tr th:only-of-type {\n",
       "        vertical-align: middle;\n",
       "    }\n",
       "\n",
       "    .dataframe tbody tr th {\n",
       "        vertical-align: top;\n",
       "    }\n",
       "\n",
       "    .dataframe thead th {\n",
       "        text-align: right;\n",
       "    }\n",
       "</style>\n",
       "<table border=\"1\" class=\"dataframe\">\n",
       "  <thead>\n",
       "    <tr style=\"text-align: right;\">\n",
       "      <th></th>\n",
       "      <th>year</th>\n",
       "      <th>tertypename</th>\n",
       "      <th>eoname</th>\n",
       "      <th>regtypename</th>\n",
       "      <th>birth</th>\n",
       "      <th>sextypename</th>\n",
       "      <th>regname</th>\n",
       "      <th>mathteststatus</th>\n",
       "      <th>mathball</th>\n",
       "    </tr>\n",
       "  </thead>\n",
       "  <tbody>\n",
       "    <tr>\n",
       "      <th>3</th>\n",
       "      <td>2018</td>\n",
       "      <td>місто</td>\n",
       "      <td>Млинівська загальноосвітня школа І-ІІІ ступені...</td>\n",
       "      <td>Випускник української школи поточного року</td>\n",
       "      <td>2000</td>\n",
       "      <td>чоловіча</td>\n",
       "      <td>Рівненська область</td>\n",
       "      <td>Зараховано</td>\n",
       "      <td>0.193548</td>\n",
       "    </tr>\n",
       "    <tr>\n",
       "      <th>7</th>\n",
       "      <td>2018</td>\n",
       "      <td>село</td>\n",
       "      <td>Стеблівська загальноосвітня школа І-ІІІ ступен...</td>\n",
       "      <td>Випускник української школи поточного року</td>\n",
       "      <td>2001</td>\n",
       "      <td>чоловіча</td>\n",
       "      <td>Закарпатська область</td>\n",
       "      <td>Зараховано</td>\n",
       "      <td>0.177419</td>\n",
       "    </tr>\n",
       "    <tr>\n",
       "      <th>8</th>\n",
       "      <td>2018</td>\n",
       "      <td>місто</td>\n",
       "      <td>Вознесенський професійний ліцей</td>\n",
       "      <td>Випускник коледжу</td>\n",
       "      <td>2000</td>\n",
       "      <td>жіноча</td>\n",
       "      <td>Миколаївська область</td>\n",
       "      <td>Не подолав поріг</td>\n",
       "      <td>0.096774</td>\n",
       "    </tr>\n",
       "    <tr>\n",
       "      <th>11</th>\n",
       "      <td>2018</td>\n",
       "      <td>місто</td>\n",
       "      <td>Новоград-Волинська загальноосвітня школа І-ІІІ...</td>\n",
       "      <td>Випускник української школи поточного року</td>\n",
       "      <td>2000</td>\n",
       "      <td>жіноча</td>\n",
       "      <td>Житомирська область</td>\n",
       "      <td>Зараховано</td>\n",
       "      <td>0.435484</td>\n",
       "    </tr>\n",
       "    <tr>\n",
       "      <th>22</th>\n",
       "      <td>2018</td>\n",
       "      <td>місто</td>\n",
       "      <td>інше</td>\n",
       "      <td>Випускник минулих років</td>\n",
       "      <td>1998</td>\n",
       "      <td>чоловіча</td>\n",
       "      <td>Запорізька область</td>\n",
       "      <td>Зараховано</td>\n",
       "      <td>0.258065</td>\n",
       "    </tr>\n",
       "  </tbody>\n",
       "</table>\n",
       "</div>"
      ],
      "text/plain": [
       "    year tertypename                                             eoname  \\\n",
       "3   2018       місто  Млинівська загальноосвітня школа І-ІІІ ступені...   \n",
       "7   2018        село  Стеблівська загальноосвітня школа І-ІІІ ступен...   \n",
       "8   2018       місто                    Вознесенський професійний ліцей   \n",
       "11  2018       місто  Новоград-Волинська загальноосвітня школа І-ІІІ...   \n",
       "22  2018       місто                                               інше   \n",
       "\n",
       "                                   regtypename  birth sextypename  \\\n",
       "3   Випускник української школи поточного року   2000    чоловіча   \n",
       "7   Випускник української школи поточного року   2001    чоловіча   \n",
       "8                            Випускник коледжу   2000      жіноча   \n",
       "11  Випускник української школи поточного року   2000      жіноча   \n",
       "22                     Випускник минулих років   1998    чоловіча   \n",
       "\n",
       "                 regname    mathteststatus  mathball  \n",
       "3     Рівненська область        Зараховано  0.193548  \n",
       "7   Закарпатська область        Зараховано  0.177419  \n",
       "8   Миколаївська область  Не подолав поріг  0.096774  \n",
       "11   Житомирська область        Зараховано  0.435484  \n",
       "22    Запорізька область        Зараховано  0.258065  "
      ]
     },
     "execution_count": 6,
     "metadata": {},
     "output_type": "execute_result"
    }
   ],
   "source": [
    "zno_math_model = zno_math[['year', 'tertypename', 'eoname', 'regtypename', \n",
    "                         'birth', 'sextypename', 'regname', 'mathteststatus', 'mathball']]\n",
    "zno_math_model.head()"
   ]
  },
  {
   "cell_type": "code",
   "execution_count": 7,
   "id": "82e1ea8e",
   "metadata": {},
   "outputs": [],
   "source": [
    "zno_math_model[['tertypename', 'eoname', \n",
    "               'regtypename','sextypename', \n",
    "               'regname', 'mathteststatus']] = zno_math_model[['tertypename', 'eoname', \n",
    "               'regtypename','sextypename', \n",
    "               'regname', 'mathteststatus']].apply(LabelEncoder().fit_transform)"
   ]
  },
  {
   "cell_type": "code",
   "execution_count": 9,
   "id": "16364363",
   "metadata": {},
   "outputs": [],
   "source": [
    "df_math_2018 = zno_math_model[(zno_math_model['year'] == 2018)]\n",
    "\n",
    "math_x_train,math_x_test, math_y_train, math_y_test = train_test_split(df_math_2018.drop('mathball', axis=1), df_math_2018['mathball'], random_state=42, train_size=0.7)\n"
   ]
  },
  {
   "cell_type": "code",
   "execution_count": 10,
   "id": "2c7387cf",
   "metadata": {},
   "outputs": [],
   "source": [
    "n_estimators = [int(x) for x in np.linspace(start = 50, stop = 500, num = 10)]\n",
    "# Number of features to consider at every split\n",
    "max_features = ['auto', 'sqrt']\n",
    "# Maximum number of levels in tree\n",
    "max_depth = [int(x) for x in np.linspace(10, 110, num = 5)]\n",
    "max_depth.append(None)\n",
    "# Minimum number of samples required to split a node\n",
    "min_samples_split = [2, 5, 10]\n",
    "# Minimum number of samples required at each leaf node\n",
    "min_samples_leaf = [1, 2, 4]\n",
    "\n",
    "# Create the random grid\n",
    "random_grid = {'n_estimators': n_estimators,\n",
    "               'max_features': max_features,\n",
    "               'max_depth': max_depth,\n",
    "               'min_samples_split': min_samples_split,\n",
    "               'min_samples_leaf': min_samples_leaf}"
   ]
  },
  {
   "cell_type": "code",
   "execution_count": 11,
   "id": "95a99d8e",
   "metadata": {},
   "outputs": [
    {
     "name": "stdout",
     "output_type": "stream",
     "text": [
      "Fitting 3 folds for each of 100 candidates, totalling 300 fits\n"
     ]
    },
    {
     "name": "stderr",
     "output_type": "stream",
     "text": [
      "C:\\anaconda3\\lib\\site-packages\\sklearn\\ensemble\\_forest.py:413: FutureWarning: `max_features='auto'` has been deprecated in 1.1 and will be removed in 1.3. To keep the past behaviour, explicitly set `max_features=1.0` or remove this parameter as it is also the default value for RandomForestRegressors and ExtraTreesRegressors.\n",
      "  warn(\n"
     ]
    },
    {
     "data": {
      "text/html": [
       "<style>#sk-container-id-1 {color: black;background-color: white;}#sk-container-id-1 pre{padding: 0;}#sk-container-id-1 div.sk-toggleable {background-color: white;}#sk-container-id-1 label.sk-toggleable__label {cursor: pointer;display: block;width: 100%;margin-bottom: 0;padding: 0.3em;box-sizing: border-box;text-align: center;}#sk-container-id-1 label.sk-toggleable__label-arrow:before {content: \"▸\";float: left;margin-right: 0.25em;color: #696969;}#sk-container-id-1 label.sk-toggleable__label-arrow:hover:before {color: black;}#sk-container-id-1 div.sk-estimator:hover label.sk-toggleable__label-arrow:before {color: black;}#sk-container-id-1 div.sk-toggleable__content {max-height: 0;max-width: 0;overflow: hidden;text-align: left;background-color: #f0f8ff;}#sk-container-id-1 div.sk-toggleable__content pre {margin: 0.2em;color: black;border-radius: 0.25em;background-color: #f0f8ff;}#sk-container-id-1 input.sk-toggleable__control:checked~div.sk-toggleable__content {max-height: 200px;max-width: 100%;overflow: auto;}#sk-container-id-1 input.sk-toggleable__control:checked~label.sk-toggleable__label-arrow:before {content: \"▾\";}#sk-container-id-1 div.sk-estimator input.sk-toggleable__control:checked~label.sk-toggleable__label {background-color: #d4ebff;}#sk-container-id-1 div.sk-label input.sk-toggleable__control:checked~label.sk-toggleable__label {background-color: #d4ebff;}#sk-container-id-1 input.sk-hidden--visually {border: 0;clip: rect(1px 1px 1px 1px);clip: rect(1px, 1px, 1px, 1px);height: 1px;margin: -1px;overflow: hidden;padding: 0;position: absolute;width: 1px;}#sk-container-id-1 div.sk-estimator {font-family: monospace;background-color: #f0f8ff;border: 1px dotted black;border-radius: 0.25em;box-sizing: border-box;margin-bottom: 0.5em;}#sk-container-id-1 div.sk-estimator:hover {background-color: #d4ebff;}#sk-container-id-1 div.sk-parallel-item::after {content: \"\";width: 100%;border-bottom: 1px solid gray;flex-grow: 1;}#sk-container-id-1 div.sk-label:hover label.sk-toggleable__label {background-color: #d4ebff;}#sk-container-id-1 div.sk-serial::before {content: \"\";position: absolute;border-left: 1px solid gray;box-sizing: border-box;top: 0;bottom: 0;left: 50%;z-index: 0;}#sk-container-id-1 div.sk-serial {display: flex;flex-direction: column;align-items: center;background-color: white;padding-right: 0.2em;padding-left: 0.2em;position: relative;}#sk-container-id-1 div.sk-item {position: relative;z-index: 1;}#sk-container-id-1 div.sk-parallel {display: flex;align-items: stretch;justify-content: center;background-color: white;position: relative;}#sk-container-id-1 div.sk-item::before, #sk-container-id-1 div.sk-parallel-item::before {content: \"\";position: absolute;border-left: 1px solid gray;box-sizing: border-box;top: 0;bottom: 0;left: 50%;z-index: -1;}#sk-container-id-1 div.sk-parallel-item {display: flex;flex-direction: column;z-index: 1;position: relative;background-color: white;}#sk-container-id-1 div.sk-parallel-item:first-child::after {align-self: flex-end;width: 50%;}#sk-container-id-1 div.sk-parallel-item:last-child::after {align-self: flex-start;width: 50%;}#sk-container-id-1 div.sk-parallel-item:only-child::after {width: 0;}#sk-container-id-1 div.sk-dashed-wrapped {border: 1px dashed gray;margin: 0 0.4em 0.5em 0.4em;box-sizing: border-box;padding-bottom: 0.4em;background-color: white;}#sk-container-id-1 div.sk-label label {font-family: monospace;font-weight: bold;display: inline-block;line-height: 1.2em;}#sk-container-id-1 div.sk-label-container {text-align: center;}#sk-container-id-1 div.sk-container {/* jupyter's `normalize.less` sets `[hidden] { display: none; }` but bootstrap.min.css set `[hidden] { display: none !important; }` so we also need the `!important` here to be able to override the default hidden behavior on the sphinx rendered scikit-learn.org. See: https://github.com/scikit-learn/scikit-learn/issues/21755 */display: inline-block !important;position: relative;}#sk-container-id-1 div.sk-text-repr-fallback {display: none;}</style><div id=\"sk-container-id-1\" class=\"sk-top-container\"><div class=\"sk-text-repr-fallback\"><pre>RandomizedSearchCV(cv=3, estimator=RandomForestRegressor(), n_iter=100,\n",
       "                   n_jobs=-1,\n",
       "                   param_distributions={&#x27;max_depth&#x27;: [10, 35, 60, 85, 110,\n",
       "                                                      None],\n",
       "                                        &#x27;max_features&#x27;: [&#x27;auto&#x27;, &#x27;sqrt&#x27;],\n",
       "                                        &#x27;min_samples_leaf&#x27;: [1, 2, 4],\n",
       "                                        &#x27;min_samples_split&#x27;: [2, 5, 10],\n",
       "                                        &#x27;n_estimators&#x27;: [50, 100, 150, 200, 250,\n",
       "                                                         300, 350, 400, 450,\n",
       "                                                         500]},\n",
       "                   random_state=42, verbose=2)</pre><b>In a Jupyter environment, please rerun this cell to show the HTML representation or trust the notebook. <br />On GitHub, the HTML representation is unable to render, please try loading this page with nbviewer.org.</b></div><div class=\"sk-container\" hidden><div class=\"sk-item sk-dashed-wrapped\"><div class=\"sk-label-container\"><div class=\"sk-label sk-toggleable\"><input class=\"sk-toggleable__control sk-hidden--visually\" id=\"sk-estimator-id-1\" type=\"checkbox\" ><label for=\"sk-estimator-id-1\" class=\"sk-toggleable__label sk-toggleable__label-arrow\">RandomizedSearchCV</label><div class=\"sk-toggleable__content\"><pre>RandomizedSearchCV(cv=3, estimator=RandomForestRegressor(), n_iter=100,\n",
       "                   n_jobs=-1,\n",
       "                   param_distributions={&#x27;max_depth&#x27;: [10, 35, 60, 85, 110,\n",
       "                                                      None],\n",
       "                                        &#x27;max_features&#x27;: [&#x27;auto&#x27;, &#x27;sqrt&#x27;],\n",
       "                                        &#x27;min_samples_leaf&#x27;: [1, 2, 4],\n",
       "                                        &#x27;min_samples_split&#x27;: [2, 5, 10],\n",
       "                                        &#x27;n_estimators&#x27;: [50, 100, 150, 200, 250,\n",
       "                                                         300, 350, 400, 450,\n",
       "                                                         500]},\n",
       "                   random_state=42, verbose=2)</pre></div></div></div><div class=\"sk-parallel\"><div class=\"sk-parallel-item\"><div class=\"sk-item\"><div class=\"sk-label-container\"><div class=\"sk-label sk-toggleable\"><input class=\"sk-toggleable__control sk-hidden--visually\" id=\"sk-estimator-id-2\" type=\"checkbox\" ><label for=\"sk-estimator-id-2\" class=\"sk-toggleable__label sk-toggleable__label-arrow\">estimator: RandomForestRegressor</label><div class=\"sk-toggleable__content\"><pre>RandomForestRegressor()</pre></div></div></div><div class=\"sk-serial\"><div class=\"sk-item\"><div class=\"sk-estimator sk-toggleable\"><input class=\"sk-toggleable__control sk-hidden--visually\" id=\"sk-estimator-id-3\" type=\"checkbox\" ><label for=\"sk-estimator-id-3\" class=\"sk-toggleable__label sk-toggleable__label-arrow\">RandomForestRegressor</label><div class=\"sk-toggleable__content\"><pre>RandomForestRegressor()</pre></div></div></div></div></div></div></div></div></div></div>"
      ],
      "text/plain": [
       "RandomizedSearchCV(cv=3, estimator=RandomForestRegressor(), n_iter=100,\n",
       "                   n_jobs=-1,\n",
       "                   param_distributions={'max_depth': [10, 35, 60, 85, 110,\n",
       "                                                      None],\n",
       "                                        'max_features': ['auto', 'sqrt'],\n",
       "                                        'min_samples_leaf': [1, 2, 4],\n",
       "                                        'min_samples_split': [2, 5, 10],\n",
       "                                        'n_estimators': [50, 100, 150, 200, 250,\n",
       "                                                         300, 350, 400, 450,\n",
       "                                                         500]},\n",
       "                   random_state=42, verbose=2)"
      ]
     },
     "execution_count": 11,
     "metadata": {},
     "output_type": "execute_result"
    }
   ],
   "source": [
    "rf_m=RandomForestRegressor()\n",
    "rf_random_m = RandomizedSearchCV(estimator = rf_m, param_distributions = random_grid, n_iter = 100, cv = 3, verbose=2, random_state=42, n_jobs = -1)\n",
    "# Fit the random search model\n",
    "rf_random_m.fit(math_x_train, math_y_train)"
   ]
  },
  {
   "cell_type": "code",
   "execution_count": 13,
   "id": "812d9e6f",
   "metadata": {},
   "outputs": [
    {
     "data": {
      "text/html": [
       "<style>#sk-container-id-2 {color: black;background-color: white;}#sk-container-id-2 pre{padding: 0;}#sk-container-id-2 div.sk-toggleable {background-color: white;}#sk-container-id-2 label.sk-toggleable__label {cursor: pointer;display: block;width: 100%;margin-bottom: 0;padding: 0.3em;box-sizing: border-box;text-align: center;}#sk-container-id-2 label.sk-toggleable__label-arrow:before {content: \"▸\";float: left;margin-right: 0.25em;color: #696969;}#sk-container-id-2 label.sk-toggleable__label-arrow:hover:before {color: black;}#sk-container-id-2 div.sk-estimator:hover label.sk-toggleable__label-arrow:before {color: black;}#sk-container-id-2 div.sk-toggleable__content {max-height: 0;max-width: 0;overflow: hidden;text-align: left;background-color: #f0f8ff;}#sk-container-id-2 div.sk-toggleable__content pre {margin: 0.2em;color: black;border-radius: 0.25em;background-color: #f0f8ff;}#sk-container-id-2 input.sk-toggleable__control:checked~div.sk-toggleable__content {max-height: 200px;max-width: 100%;overflow: auto;}#sk-container-id-2 input.sk-toggleable__control:checked~label.sk-toggleable__label-arrow:before {content: \"▾\";}#sk-container-id-2 div.sk-estimator input.sk-toggleable__control:checked~label.sk-toggleable__label {background-color: #d4ebff;}#sk-container-id-2 div.sk-label input.sk-toggleable__control:checked~label.sk-toggleable__label {background-color: #d4ebff;}#sk-container-id-2 input.sk-hidden--visually {border: 0;clip: rect(1px 1px 1px 1px);clip: rect(1px, 1px, 1px, 1px);height: 1px;margin: -1px;overflow: hidden;padding: 0;position: absolute;width: 1px;}#sk-container-id-2 div.sk-estimator {font-family: monospace;background-color: #f0f8ff;border: 1px dotted black;border-radius: 0.25em;box-sizing: border-box;margin-bottom: 0.5em;}#sk-container-id-2 div.sk-estimator:hover {background-color: #d4ebff;}#sk-container-id-2 div.sk-parallel-item::after {content: \"\";width: 100%;border-bottom: 1px solid gray;flex-grow: 1;}#sk-container-id-2 div.sk-label:hover label.sk-toggleable__label {background-color: #d4ebff;}#sk-container-id-2 div.sk-serial::before {content: \"\";position: absolute;border-left: 1px solid gray;box-sizing: border-box;top: 0;bottom: 0;left: 50%;z-index: 0;}#sk-container-id-2 div.sk-serial {display: flex;flex-direction: column;align-items: center;background-color: white;padding-right: 0.2em;padding-left: 0.2em;position: relative;}#sk-container-id-2 div.sk-item {position: relative;z-index: 1;}#sk-container-id-2 div.sk-parallel {display: flex;align-items: stretch;justify-content: center;background-color: white;position: relative;}#sk-container-id-2 div.sk-item::before, #sk-container-id-2 div.sk-parallel-item::before {content: \"\";position: absolute;border-left: 1px solid gray;box-sizing: border-box;top: 0;bottom: 0;left: 50%;z-index: -1;}#sk-container-id-2 div.sk-parallel-item {display: flex;flex-direction: column;z-index: 1;position: relative;background-color: white;}#sk-container-id-2 div.sk-parallel-item:first-child::after {align-self: flex-end;width: 50%;}#sk-container-id-2 div.sk-parallel-item:last-child::after {align-self: flex-start;width: 50%;}#sk-container-id-2 div.sk-parallel-item:only-child::after {width: 0;}#sk-container-id-2 div.sk-dashed-wrapped {border: 1px dashed gray;margin: 0 0.4em 0.5em 0.4em;box-sizing: border-box;padding-bottom: 0.4em;background-color: white;}#sk-container-id-2 div.sk-label label {font-family: monospace;font-weight: bold;display: inline-block;line-height: 1.2em;}#sk-container-id-2 div.sk-label-container {text-align: center;}#sk-container-id-2 div.sk-container {/* jupyter's `normalize.less` sets `[hidden] { display: none; }` but bootstrap.min.css set `[hidden] { display: none !important; }` so we also need the `!important` here to be able to override the default hidden behavior on the sphinx rendered scikit-learn.org. See: https://github.com/scikit-learn/scikit-learn/issues/21755 */display: inline-block !important;position: relative;}#sk-container-id-2 div.sk-text-repr-fallback {display: none;}</style><div id=\"sk-container-id-2\" class=\"sk-top-container\"><div class=\"sk-text-repr-fallback\"><pre>RandomForestRegressor(max_depth=60, max_features=&#x27;auto&#x27;, min_samples_leaf=4,\n",
       "                      min_samples_split=10, n_estimators=450)</pre><b>In a Jupyter environment, please rerun this cell to show the HTML representation or trust the notebook. <br />On GitHub, the HTML representation is unable to render, please try loading this page with nbviewer.org.</b></div><div class=\"sk-container\" hidden><div class=\"sk-item\"><div class=\"sk-estimator sk-toggleable\"><input class=\"sk-toggleable__control sk-hidden--visually\" id=\"sk-estimator-id-4\" type=\"checkbox\" checked><label for=\"sk-estimator-id-4\" class=\"sk-toggleable__label sk-toggleable__label-arrow\">RandomForestRegressor</label><div class=\"sk-toggleable__content\"><pre>RandomForestRegressor(max_depth=60, max_features=&#x27;auto&#x27;, min_samples_leaf=4,\n",
       "                      min_samples_split=10, n_estimators=450)</pre></div></div></div></div></div>"
      ],
      "text/plain": [
       "RandomForestRegressor(max_depth=60, max_features='auto', min_samples_leaf=4,\n",
       "                      min_samples_split=10, n_estimators=450)"
      ]
     },
     "execution_count": 13,
     "metadata": {},
     "output_type": "execute_result"
    }
   ],
   "source": [
    "rf_random_m.best_estimator_"
   ]
  },
  {
   "cell_type": "code",
   "execution_count": 67,
   "id": "27d3f47a",
   "metadata": {},
   "outputs": [
    {
     "name": "stderr",
     "output_type": "stream",
     "text": [
      "C:\\anaconda3\\lib\\site-packages\\sklearn\\ensemble\\_forest.py:413: FutureWarning: `max_features='auto'` has been deprecated in 1.1 and will be removed in 1.3. To keep the past behaviour, explicitly set `max_features=1.0` or remove this parameter as it is also the default value for RandomForestRegressors and ExtraTreesRegressors.\n",
      "  warn(\n"
     ]
    },
    {
     "data": {
      "text/html": [
       "<style>#sk-container-id-12 {color: black;background-color: white;}#sk-container-id-12 pre{padding: 0;}#sk-container-id-12 div.sk-toggleable {background-color: white;}#sk-container-id-12 label.sk-toggleable__label {cursor: pointer;display: block;width: 100%;margin-bottom: 0;padding: 0.3em;box-sizing: border-box;text-align: center;}#sk-container-id-12 label.sk-toggleable__label-arrow:before {content: \"▸\";float: left;margin-right: 0.25em;color: #696969;}#sk-container-id-12 label.sk-toggleable__label-arrow:hover:before {color: black;}#sk-container-id-12 div.sk-estimator:hover label.sk-toggleable__label-arrow:before {color: black;}#sk-container-id-12 div.sk-toggleable__content {max-height: 0;max-width: 0;overflow: hidden;text-align: left;background-color: #f0f8ff;}#sk-container-id-12 div.sk-toggleable__content pre {margin: 0.2em;color: black;border-radius: 0.25em;background-color: #f0f8ff;}#sk-container-id-12 input.sk-toggleable__control:checked~div.sk-toggleable__content {max-height: 200px;max-width: 100%;overflow: auto;}#sk-container-id-12 input.sk-toggleable__control:checked~label.sk-toggleable__label-arrow:before {content: \"▾\";}#sk-container-id-12 div.sk-estimator input.sk-toggleable__control:checked~label.sk-toggleable__label {background-color: #d4ebff;}#sk-container-id-12 div.sk-label input.sk-toggleable__control:checked~label.sk-toggleable__label {background-color: #d4ebff;}#sk-container-id-12 input.sk-hidden--visually {border: 0;clip: rect(1px 1px 1px 1px);clip: rect(1px, 1px, 1px, 1px);height: 1px;margin: -1px;overflow: hidden;padding: 0;position: absolute;width: 1px;}#sk-container-id-12 div.sk-estimator {font-family: monospace;background-color: #f0f8ff;border: 1px dotted black;border-radius: 0.25em;box-sizing: border-box;margin-bottom: 0.5em;}#sk-container-id-12 div.sk-estimator:hover {background-color: #d4ebff;}#sk-container-id-12 div.sk-parallel-item::after {content: \"\";width: 100%;border-bottom: 1px solid gray;flex-grow: 1;}#sk-container-id-12 div.sk-label:hover label.sk-toggleable__label {background-color: #d4ebff;}#sk-container-id-12 div.sk-serial::before {content: \"\";position: absolute;border-left: 1px solid gray;box-sizing: border-box;top: 0;bottom: 0;left: 50%;z-index: 0;}#sk-container-id-12 div.sk-serial {display: flex;flex-direction: column;align-items: center;background-color: white;padding-right: 0.2em;padding-left: 0.2em;position: relative;}#sk-container-id-12 div.sk-item {position: relative;z-index: 1;}#sk-container-id-12 div.sk-parallel {display: flex;align-items: stretch;justify-content: center;background-color: white;position: relative;}#sk-container-id-12 div.sk-item::before, #sk-container-id-12 div.sk-parallel-item::before {content: \"\";position: absolute;border-left: 1px solid gray;box-sizing: border-box;top: 0;bottom: 0;left: 50%;z-index: -1;}#sk-container-id-12 div.sk-parallel-item {display: flex;flex-direction: column;z-index: 1;position: relative;background-color: white;}#sk-container-id-12 div.sk-parallel-item:first-child::after {align-self: flex-end;width: 50%;}#sk-container-id-12 div.sk-parallel-item:last-child::after {align-self: flex-start;width: 50%;}#sk-container-id-12 div.sk-parallel-item:only-child::after {width: 0;}#sk-container-id-12 div.sk-dashed-wrapped {border: 1px dashed gray;margin: 0 0.4em 0.5em 0.4em;box-sizing: border-box;padding-bottom: 0.4em;background-color: white;}#sk-container-id-12 div.sk-label label {font-family: monospace;font-weight: bold;display: inline-block;line-height: 1.2em;}#sk-container-id-12 div.sk-label-container {text-align: center;}#sk-container-id-12 div.sk-container {/* jupyter's `normalize.less` sets `[hidden] { display: none; }` but bootstrap.min.css set `[hidden] { display: none !important; }` so we also need the `!important` here to be able to override the default hidden behavior on the sphinx rendered scikit-learn.org. See: https://github.com/scikit-learn/scikit-learn/issues/21755 */display: inline-block !important;position: relative;}#sk-container-id-12 div.sk-text-repr-fallback {display: none;}</style><div id=\"sk-container-id-12\" class=\"sk-top-container\"><div class=\"sk-text-repr-fallback\"><pre>RandomForestRegressor(max_depth=60, max_features=&#x27;auto&#x27;, min_samples_leaf=4,\n",
       "                      min_samples_split=10, n_estimators=450)</pre><b>In a Jupyter environment, please rerun this cell to show the HTML representation or trust the notebook. <br />On GitHub, the HTML representation is unable to render, please try loading this page with nbviewer.org.</b></div><div class=\"sk-container\" hidden><div class=\"sk-item\"><div class=\"sk-estimator sk-toggleable\"><input class=\"sk-toggleable__control sk-hidden--visually\" id=\"sk-estimator-id-20\" type=\"checkbox\" checked><label for=\"sk-estimator-id-20\" class=\"sk-toggleable__label sk-toggleable__label-arrow\">RandomForestRegressor</label><div class=\"sk-toggleable__content\"><pre>RandomForestRegressor(max_depth=60, max_features=&#x27;auto&#x27;, min_samples_leaf=4,\n",
       "                      min_samples_split=10, n_estimators=450)</pre></div></div></div></div></div>"
      ],
      "text/plain": [
       "RandomForestRegressor(max_depth=60, max_features='auto', min_samples_leaf=4,\n",
       "                      min_samples_split=10, n_estimators=450)"
      ]
     },
     "execution_count": 67,
     "metadata": {},
     "output_type": "execute_result"
    }
   ],
   "source": [
    "best_random_m = RandomForestRegressor(max_depth=60, max_features='auto', min_samples_leaf=4,\n",
    "                      min_samples_split=10, n_estimators=450)\n",
    "best_random_m.fit(df_math_2018.drop('mathball', axis=1), df_math_2018['mathball'])"
   ]
  },
  {
   "cell_type": "code",
   "execution_count": 68,
   "id": "475dd919",
   "metadata": {},
   "outputs": [],
   "source": [
    "df_math_2019 = zno_math_model[(zno_math_model['year'] == 2019)]\n",
    "df_math_2020 = zno_math_model[(zno_math_model['year'] == 2020)]\n",
    "df_math_2021 = zno_math_model[(zno_math_model['year'] == 2021)]"
   ]
  },
  {
   "cell_type": "code",
   "execution_count": 69,
   "id": "241b84ee",
   "metadata": {},
   "outputs": [],
   "source": [
    "y_pred_2019_m = best_random_m.predict(df_math_2019.drop('mathball', axis=1))\n",
    "y_pred_2020_m = best_random_m.predict(df_math_2020.drop('mathball', axis=1))\n",
    "y_pred_2021_m = best_random_m.predict(df_math_2021.drop('mathball', axis=1))"
   ]
  },
  {
   "cell_type": "code",
   "execution_count": 70,
   "id": "79e09eed",
   "metadata": {},
   "outputs": [],
   "source": [
    "math_2019 = pd.concat([df_math_2019['mathball'].reset_index().drop('index', axis=1),pd.Series(y_pred_2019_m)],axis=1)\n",
    "math_2020 = pd.concat([df_math_2020['mathball'].reset_index().drop('index', axis=1),pd.Series(y_pred_2020_m)],axis=1)\n",
    "math_2021 = pd.concat([df_math_2021['mathball'].reset_index().drop('index', axis=1),pd.Series(y_pred_2021_m)],axis=1)\n"
   ]
  },
  {
   "cell_type": "code",
   "execution_count": 76,
   "id": "da690736",
   "metadata": {},
   "outputs": [
    {
     "name": "stdout",
     "output_type": "stream",
     "text": [
      "Percentage error for 2019 year 35.82565055578521\n",
      "Percentage error for 2020 year 52.758723320667656\n",
      "Percentage error for 2021 year 53.23301185857511\n"
     ]
    }
   ],
   "source": [
    "print(f\"Percentage error for 2019 year {mean_absolute_percentage_error(np.array(df_math_2019['mathball']), y_pred_2019_m)*100}\")\n",
    "print(f\"Percentage error for 2020 year {mean_absolute_percentage_error(np.array(df_math_2020['mathball']), y_pred_2020_m)*100}\")\n",
    "print(f\"Percentage error for 2021 year {mean_absolute_percentage_error(np.array(df_math_2021['mathball']), y_pred_2021_m)*100}\")"
   ]
  },
  {
   "cell_type": "code",
   "execution_count": 72,
   "id": "e4134de2",
   "metadata": {},
   "outputs": [
    {
     "data": {
      "image/png": "[encoded data removed]",
      "text/plain": [
       "<Figure size 1000x700 with 1 Axes>"
      ]
     },
     "metadata": {},
     "output_type": "display_data"
    }
   ],
   "source": [
    "\n",
    "# merge the three dataframes into a single dataframe\n",
    "df_m = pd.concat([math_2019, math_2020, math_2021], axis=0).rename(columns={'mathball':'real', 0:'predicted'})\n",
    "df_m['Year'] = ['2019']*len(math_2019) + ['2020']*len(math_2020) + ['2021']*len(math_2021)\n",
    "\n",
    "# melt the dataframe to make it \"tidy\"\n",
    "df_melt_m = pd.melt(df_m, id_vars=['Year'], value_vars=['predicted', 'real'], var_name='Type', value_name='Score')\n",
    "fig = plt.figure(figsize =(10, 7))\n",
    "# create the boxplot using Seaborn\n",
    "sns.set_theme(style=\"ticks\", palette=\"pastel\")\n",
    "sns.boxplot(x='Year', y='Score', hue='Type', data=df_melt_m, palette='Set3', width=0.6)\n",
    "# Move the hue legend to the right side\n",
    "plt.legend(loc='center right', bbox_to_anchor=(1.2, 0.5), ncol=1)\n",
    "\n",
    "# customize the plot\n",
    "plt.title(\"Math, predicted and real\")\n",
    "plt.grid(True)\n",
    "\n",
    "# show the plot\n",
    "plt.show()\n",
    "# Draw a nested boxplot to show bills by day and time\n",
    "\n"
   ]
  },
  {
   "attachments": {},
   "cell_type": "markdown",
   "id": "becb2ef8",
   "metadata": {},
   "source": [
    "When comparing the predicted distribution and the actual values in a given year, the difference between the median values of the math test changes very significantly, and the decline is gradual, so we can say that the lockdown has significantly affected some math classes or that the tests were of different complexity.\n",
    "\n",
    "It seems that during the lockdown, the deterioration occurs in technical subjects that require more classroom work."
   ]
  },
  {
   "cell_type": "markdown",
   "id": "596a0f3c",
   "metadata": {},
   "source": [
    "# History"
   ]
  },
  {
   "cell_type": "code",
   "execution_count": 26,
   "id": "5904ccc1",
   "metadata": {},
   "outputs": [],
   "source": [
    "zno_h = zno2[['year', 'tertypename', 'eoname','regtypename', \n",
    "                 'birth', 'sextypename', 'regname', 'histteststatus', 'histball']]\n",
    "zno_h=zno_h.dropna(axis='rows')\n",
    "zno_h = zno_h[zno_h['histball'] != 0.0] \n",
    "zno_h = zno_h.replace('селище, село', 'село')\n",
    "zno_h.loc[zno_h['tertypename'] != 'місто', 'tertypename'] = 'село'"
   ]
  },
  {
   "cell_type": "code",
   "execution_count": 27,
   "id": "e8119963",
   "metadata": {},
   "outputs": [
    {
     "data": {
      "text/html": [
       "<div>\n",
       "<style scoped>\n",
       "    .dataframe tbody tr th:only-of-type {\n",
       "        vertical-align: middle;\n",
       "    }\n",
       "\n",
       "    .dataframe tbody tr th {\n",
       "        vertical-align: top;\n",
       "    }\n",
       "\n",
       "    .dataframe thead th {\n",
       "        text-align: right;\n",
       "    }\n",
       "</style>\n",
       "<table border=\"1\" class=\"dataframe\">\n",
       "  <thead>\n",
       "    <tr style=\"text-align: right;\">\n",
       "      <th></th>\n",
       "      <th>year</th>\n",
       "      <th>tertypename</th>\n",
       "      <th>eoname</th>\n",
       "      <th>regtypename</th>\n",
       "      <th>birth</th>\n",
       "      <th>sextypename</th>\n",
       "      <th>regname</th>\n",
       "      <th>histteststatus</th>\n",
       "      <th>histball</th>\n",
       "    </tr>\n",
       "  </thead>\n",
       "  <tbody>\n",
       "    <tr>\n",
       "      <th>0</th>\n",
       "      <td>2018</td>\n",
       "      <td>село</td>\n",
       "      <td>Косоньська загальноосвітня школа І-ІІІ ступені...</td>\n",
       "      <td>Випускник української школи поточного року</td>\n",
       "      <td>2001</td>\n",
       "      <td>чоловіча</td>\n",
       "      <td>Закарпатська область</td>\n",
       "      <td>Не подолав поріг</td>\n",
       "      <td>0.255319</td>\n",
       "    </tr>\n",
       "    <tr>\n",
       "      <th>1</th>\n",
       "      <td>2018</td>\n",
       "      <td>місто</td>\n",
       "      <td>Броварська спеціалізована школа І-ІІІ ступенів...</td>\n",
       "      <td>Випускник української школи поточного року</td>\n",
       "      <td>2001</td>\n",
       "      <td>жіноча</td>\n",
       "      <td>Київська область</td>\n",
       "      <td>Зараховано</td>\n",
       "      <td>0.595745</td>\n",
       "    </tr>\n",
       "    <tr>\n",
       "      <th>2</th>\n",
       "      <td>2018</td>\n",
       "      <td>місто</td>\n",
       "      <td>Харківська гімназія № 12 Харківської міської р...</td>\n",
       "      <td>Випускник української школи поточного року</td>\n",
       "      <td>2000</td>\n",
       "      <td>жіноча</td>\n",
       "      <td>Харківська область</td>\n",
       "      <td>Зараховано</td>\n",
       "      <td>0.648936</td>\n",
       "    </tr>\n",
       "    <tr>\n",
       "      <th>6</th>\n",
       "      <td>2018</td>\n",
       "      <td>село</td>\n",
       "      <td>Таврійський навчально-виховний комплекс \" Зага...</td>\n",
       "      <td>Випускник української школи поточного року</td>\n",
       "      <td>2001</td>\n",
       "      <td>жіноча</td>\n",
       "      <td>Запорізька область</td>\n",
       "      <td>Зараховано</td>\n",
       "      <td>0.446809</td>\n",
       "    </tr>\n",
       "    <tr>\n",
       "      <th>7</th>\n",
       "      <td>2018</td>\n",
       "      <td>село</td>\n",
       "      <td>Стеблівська загальноосвітня школа І-ІІІ ступен...</td>\n",
       "      <td>Випускник української школи поточного року</td>\n",
       "      <td>2001</td>\n",
       "      <td>чоловіча</td>\n",
       "      <td>Закарпатська область</td>\n",
       "      <td>Не подолав поріг</td>\n",
       "      <td>0.265957</td>\n",
       "    </tr>\n",
       "  </tbody>\n",
       "</table>\n",
       "</div>"
      ],
      "text/plain": [
       "   year tertypename                                             eoname  \\\n",
       "0  2018        село  Косоньська загальноосвітня школа І-ІІІ ступені...   \n",
       "1  2018       місто  Броварська спеціалізована школа І-ІІІ ступенів...   \n",
       "2  2018       місто  Харківська гімназія № 12 Харківської міської р...   \n",
       "6  2018        село  Таврійський навчально-виховний комплекс \" Зага...   \n",
       "7  2018        село  Стеблівська загальноосвітня школа І-ІІІ ступен...   \n",
       "\n",
       "                                  regtypename  birth sextypename  \\\n",
       "0  Випускник української школи поточного року   2001    чоловіча   \n",
       "1  Випускник української школи поточного року   2001      жіноча   \n",
       "2  Випускник української школи поточного року   2000      жіноча   \n",
       "6  Випускник української школи поточного року   2001      жіноча   \n",
       "7  Випускник української школи поточного року   2001    чоловіча   \n",
       "\n",
       "                regname    histteststatus  histball  \n",
       "0  Закарпатська область  Не подолав поріг  0.255319  \n",
       "1      Київська область        Зараховано  0.595745  \n",
       "2    Харківська область        Зараховано  0.648936  \n",
       "6    Запорізька область        Зараховано  0.446809  \n",
       "7  Закарпатська область  Не подолав поріг  0.265957  "
      ]
     },
     "execution_count": 27,
     "metadata": {},
     "output_type": "execute_result"
    }
   ],
   "source": [
    "zno_h.loc[zno_h[\"year\"] == 2018, 'histball'] = zno_h.loc[zno_h[\"year\"] == 2018]['histball']/ (zno_h.loc[zno_h[\"year\"] == 2018]['histball']).max()\n",
    "zno_h.loc[zno_h[\"year\"] == 2019, 'histball'] = zno_h.loc[zno_h[\"year\"] == 2019]['histball']/ (zno_h.loc[zno_h[\"year\"] == 2019]['histball']).max()\n",
    "zno_h.loc[zno_h[\"year\"] == 2020, 'histball'] = zno_h.loc[zno_h[\"year\"] == 2020]['histball']/ (zno_h.loc[zno_h[\"year\"] == 2020]['histball']).max()\n",
    "zno_h.loc[zno_h[\"year\"] == 2021, 'histball'] = zno_h.loc[zno_h[\"year\"] == 2021]['histball']/ (zno_h.loc[zno_h[\"year\"] == 2021]['histball']).max()\n",
    "zno_h.head()"
   ]
  },
  {
   "cell_type": "code",
   "execution_count": 28,
   "id": "a963a3b8",
   "metadata": {},
   "outputs": [
    {
     "data": {
      "text/html": [
       "<div>\n",
       "<style scoped>\n",
       "    .dataframe tbody tr th:only-of-type {\n",
       "        vertical-align: middle;\n",
       "    }\n",
       "\n",
       "    .dataframe tbody tr th {\n",
       "        vertical-align: top;\n",
       "    }\n",
       "\n",
       "    .dataframe thead th {\n",
       "        text-align: right;\n",
       "    }\n",
       "</style>\n",
       "<table border=\"1\" class=\"dataframe\">\n",
       "  <thead>\n",
       "    <tr style=\"text-align: right;\">\n",
       "      <th></th>\n",
       "      <th>year</th>\n",
       "      <th>tertypename</th>\n",
       "      <th>eoname</th>\n",
       "      <th>regtypename</th>\n",
       "      <th>birth</th>\n",
       "      <th>sextypename</th>\n",
       "      <th>regname</th>\n",
       "      <th>histteststatus</th>\n",
       "      <th>histball</th>\n",
       "    </tr>\n",
       "  </thead>\n",
       "  <tbody>\n",
       "    <tr>\n",
       "      <th>0</th>\n",
       "      <td>2018</td>\n",
       "      <td>село</td>\n",
       "      <td>Косоньська загальноосвітня школа І-ІІІ ступені...</td>\n",
       "      <td>Випускник української школи поточного року</td>\n",
       "      <td>2001</td>\n",
       "      <td>чоловіча</td>\n",
       "      <td>Закарпатська область</td>\n",
       "      <td>Не подолав поріг</td>\n",
       "      <td>0.255319</td>\n",
       "    </tr>\n",
       "    <tr>\n",
       "      <th>1</th>\n",
       "      <td>2018</td>\n",
       "      <td>місто</td>\n",
       "      <td>Броварська спеціалізована школа І-ІІІ ступенів...</td>\n",
       "      <td>Випускник української школи поточного року</td>\n",
       "      <td>2001</td>\n",
       "      <td>жіноча</td>\n",
       "      <td>Київська область</td>\n",
       "      <td>Зараховано</td>\n",
       "      <td>0.595745</td>\n",
       "    </tr>\n",
       "    <tr>\n",
       "      <th>2</th>\n",
       "      <td>2018</td>\n",
       "      <td>місто</td>\n",
       "      <td>Харківська гімназія № 12 Харківської міської р...</td>\n",
       "      <td>Випускник української школи поточного року</td>\n",
       "      <td>2000</td>\n",
       "      <td>жіноча</td>\n",
       "      <td>Харківська область</td>\n",
       "      <td>Зараховано</td>\n",
       "      <td>0.648936</td>\n",
       "    </tr>\n",
       "    <tr>\n",
       "      <th>6</th>\n",
       "      <td>2018</td>\n",
       "      <td>село</td>\n",
       "      <td>Таврійський навчально-виховний комплекс \" Зага...</td>\n",
       "      <td>Випускник української школи поточного року</td>\n",
       "      <td>2001</td>\n",
       "      <td>жіноча</td>\n",
       "      <td>Запорізька область</td>\n",
       "      <td>Зараховано</td>\n",
       "      <td>0.446809</td>\n",
       "    </tr>\n",
       "    <tr>\n",
       "      <th>7</th>\n",
       "      <td>2018</td>\n",
       "      <td>село</td>\n",
       "      <td>Стеблівська загальноосвітня школа І-ІІІ ступен...</td>\n",
       "      <td>Випускник української школи поточного року</td>\n",
       "      <td>2001</td>\n",
       "      <td>чоловіча</td>\n",
       "      <td>Закарпатська область</td>\n",
       "      <td>Не подолав поріг</td>\n",
       "      <td>0.265957</td>\n",
       "    </tr>\n",
       "  </tbody>\n",
       "</table>\n",
       "</div>"
      ],
      "text/plain": [
       "   year tertypename                                             eoname  \\\n",
       "0  2018        село  Косоньська загальноосвітня школа І-ІІІ ступені...   \n",
       "1  2018       місто  Броварська спеціалізована школа І-ІІІ ступенів...   \n",
       "2  2018       місто  Харківська гімназія № 12 Харківської міської р...   \n",
       "6  2018        село  Таврійський навчально-виховний комплекс \" Зага...   \n",
       "7  2018        село  Стеблівська загальноосвітня школа І-ІІІ ступен...   \n",
       "\n",
       "                                  regtypename  birth sextypename  \\\n",
       "0  Випускник української школи поточного року   2001    чоловіча   \n",
       "1  Випускник української школи поточного року   2001      жіноча   \n",
       "2  Випускник української школи поточного року   2000      жіноча   \n",
       "6  Випускник української школи поточного року   2001      жіноча   \n",
       "7  Випускник української школи поточного року   2001    чоловіча   \n",
       "\n",
       "                regname    histteststatus  histball  \n",
       "0  Закарпатська область  Не подолав поріг  0.255319  \n",
       "1      Київська область        Зараховано  0.595745  \n",
       "2    Харківська область        Зараховано  0.648936  \n",
       "6    Запорізька область        Зараховано  0.446809  \n",
       "7  Закарпатська область  Не подолав поріг  0.265957  "
      ]
     },
     "execution_count": 28,
     "metadata": {},
     "output_type": "execute_result"
    }
   ],
   "source": [
    "zno_h_model = zno_h[['year', 'tertypename', 'eoname', 'regtypename', \n",
    "                         'birth', 'sextypename', 'regname', 'histteststatus', 'histball']]\n",
    "zno_h_model.head()"
   ]
  },
  {
   "cell_type": "code",
   "execution_count": 29,
   "id": "9be96870",
   "metadata": {},
   "outputs": [],
   "source": [
    "zno_h_model[['tertypename', 'eoname', \n",
    "               'regtypename','sextypename', \n",
    "               'regname', 'histteststatus']] = zno_h_model[['tertypename', 'eoname', \n",
    "               'regtypename','sextypename', \n",
    "               'regname', 'histteststatus']].apply(LabelEncoder().fit_transform)"
   ]
  },
  {
   "cell_type": "code",
   "execution_count": 30,
   "id": "18b9c27f",
   "metadata": {},
   "outputs": [],
   "source": [
    "df_h_2018 = zno_h_model[(zno_h_model['year'] == 2018)]\n",
    "\n",
    "h_x_train,h_x_test, h_y_train, h_y_test = train_test_split(df_h_2018.drop('histball', axis=1), df_h_2018['histball'], random_state=42, train_size=0.7)\n"
   ]
  },
  {
   "cell_type": "code",
   "execution_count": 31,
   "id": "eb81ba15",
   "metadata": {},
   "outputs": [],
   "source": [
    "n_estimators = [int(x) for x in np.linspace(start = 50, stop = 500, num = 10)]\n",
    "# Number of features to consider at every split\n",
    "max_features = ['auto', 'sqrt']\n",
    "# Maximum number of levels in tree\n",
    "max_depth = [int(x) for x in np.linspace(10, 110, num = 5)]\n",
    "max_depth.append(None)\n",
    "# Minimum number of samples required to split a node\n",
    "min_samples_split = [2, 5, 10]\n",
    "# Minimum number of samples required at each leaf node\n",
    "min_samples_leaf = [1, 2, 4]\n",
    "\n",
    "# Create the random grid\n",
    "random_grid = {'n_estimators': n_estimators,\n",
    "               'max_features': max_features,\n",
    "               'max_depth': max_depth,\n",
    "               'min_samples_split': min_samples_split,\n",
    "               'min_samples_leaf': min_samples_leaf}"
   ]
  },
  {
   "cell_type": "code",
   "execution_count": 32,
   "id": "de35736d",
   "metadata": {},
   "outputs": [
    {
     "name": "stdout",
     "output_type": "stream",
     "text": [
      "Fitting 3 folds for each of 100 candidates, totalling 300 fits\n"
     ]
    },
    {
     "data": {
      "text/html": [
       "<style>#sk-container-id-5 {color: black;background-color: white;}#sk-container-id-5 pre{padding: 0;}#sk-container-id-5 div.sk-toggleable {background-color: white;}#sk-container-id-5 label.sk-toggleable__label {cursor: pointer;display: block;width: 100%;margin-bottom: 0;padding: 0.3em;box-sizing: border-box;text-align: center;}#sk-container-id-5 label.sk-toggleable__label-arrow:before {content: \"▸\";float: left;margin-right: 0.25em;color: #696969;}#sk-container-id-5 label.sk-toggleable__label-arrow:hover:before {color: black;}#sk-container-id-5 div.sk-estimator:hover label.sk-toggleable__label-arrow:before {color: black;}#sk-container-id-5 div.sk-toggleable__content {max-height: 0;max-width: 0;overflow: hidden;text-align: left;background-color: #f0f8ff;}#sk-container-id-5 div.sk-toggleable__content pre {margin: 0.2em;color: black;border-radius: 0.25em;background-color: #f0f8ff;}#sk-container-id-5 input.sk-toggleable__control:checked~div.sk-toggleable__content {max-height: 200px;max-width: 100%;overflow: auto;}#sk-container-id-5 input.sk-toggleable__control:checked~label.sk-toggleable__label-arrow:before {content: \"▾\";}#sk-container-id-5 div.sk-estimator input.sk-toggleable__control:checked~label.sk-toggleable__label {background-color: #d4ebff;}#sk-container-id-5 div.sk-label input.sk-toggleable__control:checked~label.sk-toggleable__label {background-color: #d4ebff;}#sk-container-id-5 input.sk-hidden--visually {border: 0;clip: rect(1px 1px 1px 1px);clip: rect(1px, 1px, 1px, 1px);height: 1px;margin: -1px;overflow: hidden;padding: 0;position: absolute;width: 1px;}#sk-container-id-5 div.sk-estimator {font-family: monospace;background-color: #f0f8ff;border: 1px dotted black;border-radius: 0.25em;box-sizing: border-box;margin-bottom: 0.5em;}#sk-container-id-5 div.sk-estimator:hover {background-color: #d4ebff;}#sk-container-id-5 div.sk-parallel-item::after {content: \"\";width: 100%;border-bottom: 1px solid gray;flex-grow: 1;}#sk-container-id-5 div.sk-label:hover label.sk-toggleable__label {background-color: #d4ebff;}#sk-container-id-5 div.sk-serial::before {content: \"\";position: absolute;border-left: 1px solid gray;box-sizing: border-box;top: 0;bottom: 0;left: 50%;z-index: 0;}#sk-container-id-5 div.sk-serial {display: flex;flex-direction: column;align-items: center;background-color: white;padding-right: 0.2em;padding-left: 0.2em;position: relative;}#sk-container-id-5 div.sk-item {position: relative;z-index: 1;}#sk-container-id-5 div.sk-parallel {display: flex;align-items: stretch;justify-content: center;background-color: white;position: relative;}#sk-container-id-5 div.sk-item::before, #sk-container-id-5 div.sk-parallel-item::before {content: \"\";position: absolute;border-left: 1px solid gray;box-sizing: border-box;top: 0;bottom: 0;left: 50%;z-index: -1;}#sk-container-id-5 div.sk-parallel-item {display: flex;flex-direction: column;z-index: 1;position: relative;background-color: white;}#sk-container-id-5 div.sk-parallel-item:first-child::after {align-self: flex-end;width: 50%;}#sk-container-id-5 div.sk-parallel-item:last-child::after {align-self: flex-start;width: 50%;}#sk-container-id-5 div.sk-parallel-item:only-child::after {width: 0;}#sk-container-id-5 div.sk-dashed-wrapped {border: 1px dashed gray;margin: 0 0.4em 0.5em 0.4em;box-sizing: border-box;padding-bottom: 0.4em;background-color: white;}#sk-container-id-5 div.sk-label label {font-family: monospace;font-weight: bold;display: inline-block;line-height: 1.2em;}#sk-container-id-5 div.sk-label-container {text-align: center;}#sk-container-id-5 div.sk-container {/* jupyter's `normalize.less` sets `[hidden] { display: none; }` but bootstrap.min.css set `[hidden] { display: none !important; }` so we also need the `!important` here to be able to override the default hidden behavior on the sphinx rendered scikit-learn.org. See: https://github.com/scikit-learn/scikit-learn/issues/21755 */display: inline-block !important;position: relative;}#sk-container-id-5 div.sk-text-repr-fallback {display: none;}</style><div id=\"sk-container-id-5\" class=\"sk-top-container\"><div class=\"sk-text-repr-fallback\"><pre>RandomizedSearchCV(cv=3, estimator=RandomForestRegressor(), n_iter=100,\n",
       "                   n_jobs=-1,\n",
       "                   param_distributions={&#x27;max_depth&#x27;: [10, 35, 60, 85, 110,\n",
       "                                                      None],\n",
       "                                        &#x27;max_features&#x27;: [&#x27;auto&#x27;, &#x27;sqrt&#x27;],\n",
       "                                        &#x27;min_samples_leaf&#x27;: [1, 2, 4],\n",
       "                                        &#x27;min_samples_split&#x27;: [2, 5, 10],\n",
       "                                        &#x27;n_estimators&#x27;: [50, 100, 150, 200, 250,\n",
       "                                                         300, 350, 400, 450,\n",
       "                                                         500]},\n",
       "                   random_state=42, verbose=2)</pre><b>In a Jupyter environment, please rerun this cell to show the HTML representation or trust the notebook. <br />On GitHub, the HTML representation is unable to render, please try loading this page with nbviewer.org.</b></div><div class=\"sk-container\" hidden><div class=\"sk-item sk-dashed-wrapped\"><div class=\"sk-label-container\"><div class=\"sk-label sk-toggleable\"><input class=\"sk-toggleable__control sk-hidden--visually\" id=\"sk-estimator-id-9\" type=\"checkbox\" ><label for=\"sk-estimator-id-9\" class=\"sk-toggleable__label sk-toggleable__label-arrow\">RandomizedSearchCV</label><div class=\"sk-toggleable__content\"><pre>RandomizedSearchCV(cv=3, estimator=RandomForestRegressor(), n_iter=100,\n",
       "                   n_jobs=-1,\n",
       "                   param_distributions={&#x27;max_depth&#x27;: [10, 35, 60, 85, 110,\n",
       "                                                      None],\n",
       "                                        &#x27;max_features&#x27;: [&#x27;auto&#x27;, &#x27;sqrt&#x27;],\n",
       "                                        &#x27;min_samples_leaf&#x27;: [1, 2, 4],\n",
       "                                        &#x27;min_samples_split&#x27;: [2, 5, 10],\n",
       "                                        &#x27;n_estimators&#x27;: [50, 100, 150, 200, 250,\n",
       "                                                         300, 350, 400, 450,\n",
       "                                                         500]},\n",
       "                   random_state=42, verbose=2)</pre></div></div></div><div class=\"sk-parallel\"><div class=\"sk-parallel-item\"><div class=\"sk-item\"><div class=\"sk-label-container\"><div class=\"sk-label sk-toggleable\"><input class=\"sk-toggleable__control sk-hidden--visually\" id=\"sk-estimator-id-10\" type=\"checkbox\" ><label for=\"sk-estimator-id-10\" class=\"sk-toggleable__label sk-toggleable__label-arrow\">estimator: RandomForestRegressor</label><div class=\"sk-toggleable__content\"><pre>RandomForestRegressor()</pre></div></div></div><div class=\"sk-serial\"><div class=\"sk-item\"><div class=\"sk-estimator sk-toggleable\"><input class=\"sk-toggleable__control sk-hidden--visually\" id=\"sk-estimator-id-11\" type=\"checkbox\" ><label for=\"sk-estimator-id-11\" class=\"sk-toggleable__label sk-toggleable__label-arrow\">RandomForestRegressor</label><div class=\"sk-toggleable__content\"><pre>RandomForestRegressor()</pre></div></div></div></div></div></div></div></div></div></div>"
      ],
      "text/plain": [
       "RandomizedSearchCV(cv=3, estimator=RandomForestRegressor(), n_iter=100,\n",
       "                   n_jobs=-1,\n",
       "                   param_distributions={'max_depth': [10, 35, 60, 85, 110,\n",
       "                                                      None],\n",
       "                                        'max_features': ['auto', 'sqrt'],\n",
       "                                        'min_samples_leaf': [1, 2, 4],\n",
       "                                        'min_samples_split': [2, 5, 10],\n",
       "                                        'n_estimators': [50, 100, 150, 200, 250,\n",
       "                                                         300, 350, 400, 450,\n",
       "                                                         500]},\n",
       "                   random_state=42, verbose=2)"
      ]
     },
     "execution_count": 32,
     "metadata": {},
     "output_type": "execute_result"
    }
   ],
   "source": [
    "rf_h=RandomForestRegressor()\n",
    "rf_random_h = RandomizedSearchCV(estimator = rf_h, param_distributions = random_grid, n_iter = 100, cv = 3, verbose=2, random_state=42, n_jobs = -1)\n",
    "# Fit the random search model\n",
    "rf_random_h.fit(h_x_train, h_y_train)"
   ]
  },
  {
   "cell_type": "code",
   "execution_count": 33,
   "id": "6a1c9254",
   "metadata": {},
   "outputs": [
    {
     "data": {
      "text/html": [
       "<style>#sk-container-id-6 {color: black;background-color: white;}#sk-container-id-6 pre{padding: 0;}#sk-container-id-6 div.sk-toggleable {background-color: white;}#sk-container-id-6 label.sk-toggleable__label {cursor: pointer;display: block;width: 100%;margin-bottom: 0;padding: 0.3em;box-sizing: border-box;text-align: center;}#sk-container-id-6 label.sk-toggleable__label-arrow:before {content: \"▸\";float: left;margin-right: 0.25em;color: #696969;}#sk-container-id-6 label.sk-toggleable__label-arrow:hover:before {color: black;}#sk-container-id-6 div.sk-estimator:hover label.sk-toggleable__label-arrow:before {color: black;}#sk-container-id-6 div.sk-toggleable__content {max-height: 0;max-width: 0;overflow: hidden;text-align: left;background-color: #f0f8ff;}#sk-container-id-6 div.sk-toggleable__content pre {margin: 0.2em;color: black;border-radius: 0.25em;background-color: #f0f8ff;}#sk-container-id-6 input.sk-toggleable__control:checked~div.sk-toggleable__content {max-height: 200px;max-width: 100%;overflow: auto;}#sk-container-id-6 input.sk-toggleable__control:checked~label.sk-toggleable__label-arrow:before {content: \"▾\";}#sk-container-id-6 div.sk-estimator input.sk-toggleable__control:checked~label.sk-toggleable__label {background-color: #d4ebff;}#sk-container-id-6 div.sk-label input.sk-toggleable__control:checked~label.sk-toggleable__label {background-color: #d4ebff;}#sk-container-id-6 input.sk-hidden--visually {border: 0;clip: rect(1px 1px 1px 1px);clip: rect(1px, 1px, 1px, 1px);height: 1px;margin: -1px;overflow: hidden;padding: 0;position: absolute;width: 1px;}#sk-container-id-6 div.sk-estimator {font-family: monospace;background-color: #f0f8ff;border: 1px dotted black;border-radius: 0.25em;box-sizing: border-box;margin-bottom: 0.5em;}#sk-container-id-6 div.sk-estimator:hover {background-color: #d4ebff;}#sk-container-id-6 div.sk-parallel-item::after {content: \"\";width: 100%;border-bottom: 1px solid gray;flex-grow: 1;}#sk-container-id-6 div.sk-label:hover label.sk-toggleable__label {background-color: #d4ebff;}#sk-container-id-6 div.sk-serial::before {content: \"\";position: absolute;border-left: 1px solid gray;box-sizing: border-box;top: 0;bottom: 0;left: 50%;z-index: 0;}#sk-container-id-6 div.sk-serial {display: flex;flex-direction: column;align-items: center;background-color: white;padding-right: 0.2em;padding-left: 0.2em;position: relative;}#sk-container-id-6 div.sk-item {position: relative;z-index: 1;}#sk-container-id-6 div.sk-parallel {display: flex;align-items: stretch;justify-content: center;background-color: white;position: relative;}#sk-container-id-6 div.sk-item::before, #sk-container-id-6 div.sk-parallel-item::before {content: \"\";position: absolute;border-left: 1px solid gray;box-sizing: border-box;top: 0;bottom: 0;left: 50%;z-index: -1;}#sk-container-id-6 div.sk-parallel-item {display: flex;flex-direction: column;z-index: 1;position: relative;background-color: white;}#sk-container-id-6 div.sk-parallel-item:first-child::after {align-self: flex-end;width: 50%;}#sk-container-id-6 div.sk-parallel-item:last-child::after {align-self: flex-start;width: 50%;}#sk-container-id-6 div.sk-parallel-item:only-child::after {width: 0;}#sk-container-id-6 div.sk-dashed-wrapped {border: 1px dashed gray;margin: 0 0.4em 0.5em 0.4em;box-sizing: border-box;padding-bottom: 0.4em;background-color: white;}#sk-container-id-6 div.sk-label label {font-family: monospace;font-weight: bold;display: inline-block;line-height: 1.2em;}#sk-container-id-6 div.sk-label-container {text-align: center;}#sk-container-id-6 div.sk-container {/* jupyter's `normalize.less` sets `[hidden] { display: none; }` but bootstrap.min.css set `[hidden] { display: none !important; }` so we also need the `!important` here to be able to override the default hidden behavior on the sphinx rendered scikit-learn.org. See: https://github.com/scikit-learn/scikit-learn/issues/21755 */display: inline-block !important;position: relative;}#sk-container-id-6 div.sk-text-repr-fallback {display: none;}</style><div id=\"sk-container-id-6\" class=\"sk-top-container\"><div class=\"sk-text-repr-fallback\"><pre>RandomForestRegressor(max_depth=35, max_features=&#x27;sqrt&#x27;, min_samples_leaf=4,\n",
       "                      min_samples_split=10, n_estimators=300)</pre><b>In a Jupyter environment, please rerun this cell to show the HTML representation or trust the notebook. <br />On GitHub, the HTML representation is unable to render, please try loading this page with nbviewer.org.</b></div><div class=\"sk-container\" hidden><div class=\"sk-item\"><div class=\"sk-estimator sk-toggleable\"><input class=\"sk-toggleable__control sk-hidden--visually\" id=\"sk-estimator-id-12\" type=\"checkbox\" checked><label for=\"sk-estimator-id-12\" class=\"sk-toggleable__label sk-toggleable__label-arrow\">RandomForestRegressor</label><div class=\"sk-toggleable__content\"><pre>RandomForestRegressor(max_depth=35, max_features=&#x27;sqrt&#x27;, min_samples_leaf=4,\n",
       "                      min_samples_split=10, n_estimators=300)</pre></div></div></div></div></div>"
      ],
      "text/plain": [
       "RandomForestRegressor(max_depth=35, max_features='sqrt', min_samples_leaf=4,\n",
       "                      min_samples_split=10, n_estimators=300)"
      ]
     },
     "execution_count": 33,
     "metadata": {},
     "output_type": "execute_result"
    }
   ],
   "source": [
    "rf_random_h.best_estimator_"
   ]
  },
  {
   "cell_type": "code",
   "execution_count": 43,
   "id": "2db62bc2",
   "metadata": {},
   "outputs": [
    {
     "data": {
      "text/html": [
       "<style>#sk-container-id-9 {color: black;background-color: white;}#sk-container-id-9 pre{padding: 0;}#sk-container-id-9 div.sk-toggleable {background-color: white;}#sk-container-id-9 label.sk-toggleable__label {cursor: pointer;display: block;width: 100%;margin-bottom: 0;padding: 0.3em;box-sizing: border-box;text-align: center;}#sk-container-id-9 label.sk-toggleable__label-arrow:before {content: \"▸\";float: left;margin-right: 0.25em;color: #696969;}#sk-container-id-9 label.sk-toggleable__label-arrow:hover:before {color: black;}#sk-container-id-9 div.sk-estimator:hover label.sk-toggleable__label-arrow:before {color: black;}#sk-container-id-9 div.sk-toggleable__content {max-height: 0;max-width: 0;overflow: hidden;text-align: left;background-color: #f0f8ff;}#sk-container-id-9 div.sk-toggleable__content pre {margin: 0.2em;color: black;border-radius: 0.25em;background-color: #f0f8ff;}#sk-container-id-9 input.sk-toggleable__control:checked~div.sk-toggleable__content {max-height: 200px;max-width: 100%;overflow: auto;}#sk-container-id-9 input.sk-toggleable__control:checked~label.sk-toggleable__label-arrow:before {content: \"▾\";}#sk-container-id-9 div.sk-estimator input.sk-toggleable__control:checked~label.sk-toggleable__label {background-color: #d4ebff;}#sk-container-id-9 div.sk-label input.sk-toggleable__control:checked~label.sk-toggleable__label {background-color: #d4ebff;}#sk-container-id-9 input.sk-hidden--visually {border: 0;clip: rect(1px 1px 1px 1px);clip: rect(1px, 1px, 1px, 1px);height: 1px;margin: -1px;overflow: hidden;padding: 0;position: absolute;width: 1px;}#sk-container-id-9 div.sk-estimator {font-family: monospace;background-color: #f0f8ff;border: 1px dotted black;border-radius: 0.25em;box-sizing: border-box;margin-bottom: 0.5em;}#sk-container-id-9 div.sk-estimator:hover {background-color: #d4ebff;}#sk-container-id-9 div.sk-parallel-item::after {content: \"\";width: 100%;border-bottom: 1px solid gray;flex-grow: 1;}#sk-container-id-9 div.sk-label:hover label.sk-toggleable__label {background-color: #d4ebff;}#sk-container-id-9 div.sk-serial::before {content: \"\";position: absolute;border-left: 1px solid gray;box-sizing: border-box;top: 0;bottom: 0;left: 50%;z-index: 0;}#sk-container-id-9 div.sk-serial {display: flex;flex-direction: column;align-items: center;background-color: white;padding-right: 0.2em;padding-left: 0.2em;position: relative;}#sk-container-id-9 div.sk-item {position: relative;z-index: 1;}#sk-container-id-9 div.sk-parallel {display: flex;align-items: stretch;justify-content: center;background-color: white;position: relative;}#sk-container-id-9 div.sk-item::before, #sk-container-id-9 div.sk-parallel-item::before {content: \"\";position: absolute;border-left: 1px solid gray;box-sizing: border-box;top: 0;bottom: 0;left: 50%;z-index: -1;}#sk-container-id-9 div.sk-parallel-item {display: flex;flex-direction: column;z-index: 1;position: relative;background-color: white;}#sk-container-id-9 div.sk-parallel-item:first-child::after {align-self: flex-end;width: 50%;}#sk-container-id-9 div.sk-parallel-item:last-child::after {align-self: flex-start;width: 50%;}#sk-container-id-9 div.sk-parallel-item:only-child::after {width: 0;}#sk-container-id-9 div.sk-dashed-wrapped {border: 1px dashed gray;margin: 0 0.4em 0.5em 0.4em;box-sizing: border-box;padding-bottom: 0.4em;background-color: white;}#sk-container-id-9 div.sk-label label {font-family: monospace;font-weight: bold;display: inline-block;line-height: 1.2em;}#sk-container-id-9 div.sk-label-container {text-align: center;}#sk-container-id-9 div.sk-container {/* jupyter's `normalize.less` sets `[hidden] { display: none; }` but bootstrap.min.css set `[hidden] { display: none !important; }` so we also need the `!important` here to be able to override the default hidden behavior on the sphinx rendered scikit-learn.org. See: https://github.com/scikit-learn/scikit-learn/issues/21755 */display: inline-block !important;position: relative;}#sk-container-id-9 div.sk-text-repr-fallback {display: none;}</style><div id=\"sk-container-id-9\" class=\"sk-top-container\"><div class=\"sk-text-repr-fallback\"><pre>RandomForestRegressor(max_depth=35, max_features=&#x27;sqrt&#x27;, min_samples_leaf=4,\n",
       "                      min_samples_split=10, n_estimators=300)</pre><b>In a Jupyter environment, please rerun this cell to show the HTML representation or trust the notebook. <br />On GitHub, the HTML representation is unable to render, please try loading this page with nbviewer.org.</b></div><div class=\"sk-container\" hidden><div class=\"sk-item\"><div class=\"sk-estimator sk-toggleable\"><input class=\"sk-toggleable__control sk-hidden--visually\" id=\"sk-estimator-id-17\" type=\"checkbox\" checked><label for=\"sk-estimator-id-17\" class=\"sk-toggleable__label sk-toggleable__label-arrow\">RandomForestRegressor</label><div class=\"sk-toggleable__content\"><pre>RandomForestRegressor(max_depth=35, max_features=&#x27;sqrt&#x27;, min_samples_leaf=4,\n",
       "                      min_samples_split=10, n_estimators=300)</pre></div></div></div></div></div>"
      ],
      "text/plain": [
       "RandomForestRegressor(max_depth=35, max_features='sqrt', min_samples_leaf=4,\n",
       "                      min_samples_split=10, n_estimators=300)"
      ]
     },
     "execution_count": 43,
     "metadata": {},
     "output_type": "execute_result"
    }
   ],
   "source": [
    "best_random_h = RandomForestRegressor(max_depth=35, max_features='sqrt', min_samples_leaf=4,\n",
    "                      min_samples_split=10, n_estimators=300)\n",
    "best_random_h.fit(df_h_2018.drop('histball', axis=1), df_h_2018['histball'])"
   ]
  },
  {
   "cell_type": "code",
   "execution_count": 44,
   "id": "c6a09399",
   "metadata": {},
   "outputs": [],
   "source": [
    "df_h_2019 = zno_h_model[(zno_h_model['year'] == 2019)]\n",
    "df_h_2020 = zno_h_model[(zno_h_model['year'] == 2020)]\n",
    "df_h_2021 = zno_h_model[(zno_h_model['year'] == 2021)]"
   ]
  },
  {
   "cell_type": "code",
   "execution_count": 45,
   "id": "74e6f7eb",
   "metadata": {},
   "outputs": [],
   "source": [
    "y_pred_2019_h = best_random_h.predict(df_h_2019.drop('histball', axis=1))\n",
    "y_pred_2020_h = best_random_h.predict(df_h_2020.drop('histball', axis=1))\n",
    "y_pred_2021_h = best_random_h.predict(df_h_2021.drop('histball', axis=1))"
   ]
  },
  {
   "cell_type": "code",
   "execution_count": 46,
   "id": "3505b1de",
   "metadata": {},
   "outputs": [],
   "source": [
    "h_2019 = pd.concat([df_h_2019['histball'].reset_index().drop('index', axis=1),pd.Series(y_pred_2019_h)],axis=1)\n",
    "h_2020 = pd.concat([df_h_2020['histball'].reset_index().drop('index', axis=1),pd.Series(y_pred_2020_h)],axis=1)\n",
    "h_2021 = pd.concat([df_h_2021['histball'].reset_index().drop('index', axis=1),pd.Series(y_pred_2021_h)],axis=1)\n"
   ]
  },
  {
   "cell_type": "code",
   "execution_count": 74,
   "id": "4afbdada",
   "metadata": {},
   "outputs": [
    {
     "name": "stdout",
     "output_type": "stream",
     "text": [
      "Percentage error for 2019 year 19.268081892682464\n",
      "Percentage error for 2020 year 27.124383716814197\n",
      "Percentage error for 2021 year 22.136403318537003\n"
     ]
    }
   ],
   "source": [
    "print(f\"Percentage error for 2019 year {mean_absolute_percentage_error(np.array(df_h_2019['histball']), y_pred_2019_h)*100}\")\n",
    "print(f\"Percentage error for 2020 year {mean_absolute_percentage_error(np.array(df_h_2020['histball']), y_pred_2020_h)*100}\")\n",
    "print(f\"Percentage error for 2021 year {mean_absolute_percentage_error(np.array(df_h_2021['histball']), y_pred_2021_h)*100}\")"
   ]
  },
  {
   "cell_type": "code",
   "execution_count": 77,
   "id": "14a11f7a",
   "metadata": {},
   "outputs": [
    {
     "data": {
      "image/png": "[encoded data removed]",
      "text/plain": [
       "<Figure size 1000x700 with 1 Axes>"
      ]
     },
     "metadata": {},
     "output_type": "display_data"
    }
   ],
   "source": [
    "\n",
    "# merge the three dataframes into a single dataframe\n",
    "df_h = pd.concat([h_2019, h_2020, h_2021], axis=0).rename(columns={'histball':'real', 0:'predicted'})\n",
    "df_h['Year'] = ['2019']*len(h_2019) + ['2020']*len(h_2020) + ['2021']*len(h_2021)\n",
    "\n",
    "# melt the dataframe to make it \"tidy\"\n",
    "df_melt_h = pd.melt(df_h, id_vars=['Year'], value_vars=['predicted', 'real'], var_name='Type', value_name='Score')\n",
    "fig = plt.figure(figsize =(10, 7))\n",
    "# create the boxplot using Seaborn\n",
    "sns.set_theme(style=\"ticks\", palette=\"pastel\")\n",
    "sns.boxplot(x='Year', y='Score', hue='Type', data=df_melt_h, palette='Set3', width=0.6)\n",
    "# Move the hue legend to the right side\n",
    "plt.legend(loc='center right', bbox_to_anchor=(1.2, 0.5), ncol=1)\n",
    "\n",
    "# customize the plot\n",
    "plt.title(\"History, predicted and real\")\n",
    "plt.grid(True)\n",
    "\n",
    "# show the plot\n",
    "plt.show()\n",
    "# Draw a nested boxplot to show bills by day and time\n",
    "\n"
   ]
  },
  {
   "attachments": {},
   "cell_type": "markdown",
   "id": "e7455b82",
   "metadata": {},
   "source": [
    "When comparing the predicted distribution and the actual values in a given year, the difference between the median values of the history test changed significantly in 2020 (this happened at the beginning of the lockdown), although a year later in 2021, we can already see that everything is normalizing. Therefore, we can say that the lockdown affected some history teaching or that the tests were of a different difficulty, but only at the initial stage of the lockdown, after which the results began to return to normal."
   ]
  },
  {
   "cell_type": "markdown",
   "id": "37b592f8",
   "metadata": {},
   "source": [
    "# English"
   ]
  },
  {
   "cell_type": "code",
   "execution_count": 34,
   "id": "ca529c64",
   "metadata": {},
   "outputs": [],
   "source": [
    "zno_e = zno2[['year', 'tertypename', 'eoname','regtypename', \n",
    "                 'birth', 'sextypename', 'regname', 'engteststatus', 'engball']]\n",
    "zno_e=zno_e.dropna(axis='rows')\n",
    "zno_e = zno_e[zno_e['engball'] != 0.0] \n",
    "zno_e = zno_e.replace('селище, село', 'село')\n",
    "zno_e.loc[zno_e['tertypename'] != 'місто', 'tertypename'] = 'село'"
   ]
  },
  {
   "cell_type": "code",
   "execution_count": 35,
   "id": "ef8b924f",
   "metadata": {},
   "outputs": [
    {
     "data": {
      "text/html": [
       "<div>\n",
       "<style scoped>\n",
       "    .dataframe tbody tr th:only-of-type {\n",
       "        vertical-align: middle;\n",
       "    }\n",
       "\n",
       "    .dataframe tbody tr th {\n",
       "        vertical-align: top;\n",
       "    }\n",
       "\n",
       "    .dataframe thead th {\n",
       "        text-align: right;\n",
       "    }\n",
       "</style>\n",
       "<table border=\"1\" class=\"dataframe\">\n",
       "  <thead>\n",
       "    <tr style=\"text-align: right;\">\n",
       "      <th></th>\n",
       "      <th>year</th>\n",
       "      <th>tertypename</th>\n",
       "      <th>eoname</th>\n",
       "      <th>regtypename</th>\n",
       "      <th>birth</th>\n",
       "      <th>sextypename</th>\n",
       "      <th>regname</th>\n",
       "      <th>engteststatus</th>\n",
       "      <th>engball</th>\n",
       "    </tr>\n",
       "  </thead>\n",
       "  <tbody>\n",
       "    <tr>\n",
       "      <th>1</th>\n",
       "      <td>2018</td>\n",
       "      <td>місто</td>\n",
       "      <td>Броварська спеціалізована школа І-ІІІ ступенів...</td>\n",
       "      <td>Випускник української школи поточного року</td>\n",
       "      <td>2001</td>\n",
       "      <td>жіноча</td>\n",
       "      <td>Київська область</td>\n",
       "      <td>Зараховано</td>\n",
       "      <td>0.875000</td>\n",
       "    </tr>\n",
       "    <tr>\n",
       "      <th>2</th>\n",
       "      <td>2018</td>\n",
       "      <td>місто</td>\n",
       "      <td>Харківська гімназія № 12 Харківської міської р...</td>\n",
       "      <td>Випускник української школи поточного року</td>\n",
       "      <td>2000</td>\n",
       "      <td>жіноча</td>\n",
       "      <td>Харківська область</td>\n",
       "      <td>Зараховано</td>\n",
       "      <td>0.763889</td>\n",
       "    </tr>\n",
       "    <tr>\n",
       "      <th>11</th>\n",
       "      <td>2018</td>\n",
       "      <td>місто</td>\n",
       "      <td>Новоград-Волинська загальноосвітня школа І-ІІІ...</td>\n",
       "      <td>Випускник української школи поточного року</td>\n",
       "      <td>2000</td>\n",
       "      <td>жіноча</td>\n",
       "      <td>Житомирська область</td>\n",
       "      <td>Зараховано</td>\n",
       "      <td>0.541667</td>\n",
       "    </tr>\n",
       "    <tr>\n",
       "      <th>15</th>\n",
       "      <td>2018</td>\n",
       "      <td>місто</td>\n",
       "      <td>УМАНСЬКИЙ НАВЧАЛЬНО - ВИХОВНИЙ КОМПЛЕКС \"ЗАГАЛ...</td>\n",
       "      <td>Випускник української школи поточного року</td>\n",
       "      <td>2001</td>\n",
       "      <td>жіноча</td>\n",
       "      <td>Черкаська область</td>\n",
       "      <td>Не подолав поріг</td>\n",
       "      <td>0.152778</td>\n",
       "    </tr>\n",
       "    <tr>\n",
       "      <th>24</th>\n",
       "      <td>2018</td>\n",
       "      <td>місто</td>\n",
       "      <td>інше</td>\n",
       "      <td>Випускник минулих років</td>\n",
       "      <td>1999</td>\n",
       "      <td>жіноча</td>\n",
       "      <td>Львівська область</td>\n",
       "      <td>Не подолав поріг</td>\n",
       "      <td>0.250000</td>\n",
       "    </tr>\n",
       "  </tbody>\n",
       "</table>\n",
       "</div>"
      ],
      "text/plain": [
       "    year tertypename                                             eoname  \\\n",
       "1   2018       місто  Броварська спеціалізована школа І-ІІІ ступенів...   \n",
       "2   2018       місто  Харківська гімназія № 12 Харківської міської р...   \n",
       "11  2018       місто  Новоград-Волинська загальноосвітня школа І-ІІІ...   \n",
       "15  2018       місто  УМАНСЬКИЙ НАВЧАЛЬНО - ВИХОВНИЙ КОМПЛЕКС \"ЗАГАЛ...   \n",
       "24  2018       місто                                               інше   \n",
       "\n",
       "                                   regtypename  birth sextypename  \\\n",
       "1   Випускник української школи поточного року   2001      жіноча   \n",
       "2   Випускник української школи поточного року   2000      жіноча   \n",
       "11  Випускник української школи поточного року   2000      жіноча   \n",
       "15  Випускник української школи поточного року   2001      жіноча   \n",
       "24                     Випускник минулих років   1999      жіноча   \n",
       "\n",
       "                regname     engteststatus   engball  \n",
       "1      Київська область        Зараховано  0.875000  \n",
       "2    Харківська область        Зараховано  0.763889  \n",
       "11  Житомирська область        Зараховано  0.541667  \n",
       "15    Черкаська область  Не подолав поріг  0.152778  \n",
       "24    Львівська область  Не подолав поріг  0.250000  "
      ]
     },
     "execution_count": 35,
     "metadata": {},
     "output_type": "execute_result"
    }
   ],
   "source": [
    "zno_e.loc[zno_e[\"year\"] == 2018, 'engball'] = zno_e.loc[zno_e[\"year\"] == 2018]['engball']/ (zno_e.loc[zno_e[\"year\"] == 2018]['engball']).max()\n",
    "zno_e.loc[zno_e[\"year\"] == 2019, 'engball'] = zno_e.loc[zno_e[\"year\"] == 2019]['engball']/ (zno_e.loc[zno_e[\"year\"] == 2019]['engball']).max()\n",
    "zno_e.loc[zno_e[\"year\"] == 2020, 'engball'] = zno_e.loc[zno_e[\"year\"] == 2020]['engball']/ (zno_e.loc[zno_e[\"year\"] == 2020]['engball']).max()\n",
    "zno_e.loc[zno_e[\"year\"] == 2021, 'engball'] = zno_e.loc[zno_e[\"year\"] == 2021]['engball']/ (zno_e.loc[zno_e[\"year\"] == 2021]['engball']).max()\n",
    "zno_e.head()"
   ]
  },
  {
   "cell_type": "code",
   "execution_count": 36,
   "id": "2e87d1c0",
   "metadata": {},
   "outputs": [
    {
     "data": {
      "text/html": [
       "<div>\n",
       "<style scoped>\n",
       "    .dataframe tbody tr th:only-of-type {\n",
       "        vertical-align: middle;\n",
       "    }\n",
       "\n",
       "    .dataframe tbody tr th {\n",
       "        vertical-align: top;\n",
       "    }\n",
       "\n",
       "    .dataframe thead th {\n",
       "        text-align: right;\n",
       "    }\n",
       "</style>\n",
       "<table border=\"1\" class=\"dataframe\">\n",
       "  <thead>\n",
       "    <tr style=\"text-align: right;\">\n",
       "      <th></th>\n",
       "      <th>year</th>\n",
       "      <th>tertypename</th>\n",
       "      <th>eoname</th>\n",
       "      <th>regtypename</th>\n",
       "      <th>birth</th>\n",
       "      <th>sextypename</th>\n",
       "      <th>regname</th>\n",
       "      <th>engteststatus</th>\n",
       "      <th>engball</th>\n",
       "    </tr>\n",
       "  </thead>\n",
       "  <tbody>\n",
       "    <tr>\n",
       "      <th>1</th>\n",
       "      <td>2018</td>\n",
       "      <td>місто</td>\n",
       "      <td>Броварська спеціалізована школа І-ІІІ ступенів...</td>\n",
       "      <td>Випускник української школи поточного року</td>\n",
       "      <td>2001</td>\n",
       "      <td>жіноча</td>\n",
       "      <td>Київська область</td>\n",
       "      <td>Зараховано</td>\n",
       "      <td>0.875000</td>\n",
       "    </tr>\n",
       "    <tr>\n",
       "      <th>2</th>\n",
       "      <td>2018</td>\n",
       "      <td>місто</td>\n",
       "      <td>Харківська гімназія № 12 Харківської міської р...</td>\n",
       "      <td>Випускник української школи поточного року</td>\n",
       "      <td>2000</td>\n",
       "      <td>жіноча</td>\n",
       "      <td>Харківська область</td>\n",
       "      <td>Зараховано</td>\n",
       "      <td>0.763889</td>\n",
       "    </tr>\n",
       "    <tr>\n",
       "      <th>11</th>\n",
       "      <td>2018</td>\n",
       "      <td>місто</td>\n",
       "      <td>Новоград-Волинська загальноосвітня школа І-ІІІ...</td>\n",
       "      <td>Випускник української школи поточного року</td>\n",
       "      <td>2000</td>\n",
       "      <td>жіноча</td>\n",
       "      <td>Житомирська область</td>\n",
       "      <td>Зараховано</td>\n",
       "      <td>0.541667</td>\n",
       "    </tr>\n",
       "    <tr>\n",
       "      <th>15</th>\n",
       "      <td>2018</td>\n",
       "      <td>місто</td>\n",
       "      <td>УМАНСЬКИЙ НАВЧАЛЬНО - ВИХОВНИЙ КОМПЛЕКС \"ЗАГАЛ...</td>\n",
       "      <td>Випускник української школи поточного року</td>\n",
       "      <td>2001</td>\n",
       "      <td>жіноча</td>\n",
       "      <td>Черкаська область</td>\n",
       "      <td>Не подолав поріг</td>\n",
       "      <td>0.152778</td>\n",
       "    </tr>\n",
       "    <tr>\n",
       "      <th>24</th>\n",
       "      <td>2018</td>\n",
       "      <td>місто</td>\n",
       "      <td>інше</td>\n",
       "      <td>Випускник минулих років</td>\n",
       "      <td>1999</td>\n",
       "      <td>жіноча</td>\n",
       "      <td>Львівська область</td>\n",
       "      <td>Не подолав поріг</td>\n",
       "      <td>0.250000</td>\n",
       "    </tr>\n",
       "  </tbody>\n",
       "</table>\n",
       "</div>"
      ],
      "text/plain": [
       "    year tertypename                                             eoname  \\\n",
       "1   2018       місто  Броварська спеціалізована школа І-ІІІ ступенів...   \n",
       "2   2018       місто  Харківська гімназія № 12 Харківської міської р...   \n",
       "11  2018       місто  Новоград-Волинська загальноосвітня школа І-ІІІ...   \n",
       "15  2018       місто  УМАНСЬКИЙ НАВЧАЛЬНО - ВИХОВНИЙ КОМПЛЕКС \"ЗАГАЛ...   \n",
       "24  2018       місто                                               інше   \n",
       "\n",
       "                                   regtypename  birth sextypename  \\\n",
       "1   Випускник української школи поточного року   2001      жіноча   \n",
       "2   Випускник української школи поточного року   2000      жіноча   \n",
       "11  Випускник української школи поточного року   2000      жіноча   \n",
       "15  Випускник української школи поточного року   2001      жіноча   \n",
       "24                     Випускник минулих років   1999      жіноча   \n",
       "\n",
       "                regname     engteststatus   engball  \n",
       "1      Київська область        Зараховано  0.875000  \n",
       "2    Харківська область        Зараховано  0.763889  \n",
       "11  Житомирська область        Зараховано  0.541667  \n",
       "15    Черкаська область  Не подолав поріг  0.152778  \n",
       "24    Львівська область  Не подолав поріг  0.250000  "
      ]
     },
     "execution_count": 36,
     "metadata": {},
     "output_type": "execute_result"
    }
   ],
   "source": [
    "zno_e_model = zno_e[['year', 'tertypename', 'eoname', 'regtypename', \n",
    "                         'birth', 'sextypename', 'regname', 'engteststatus', 'engball']]\n",
    "zno_e_model.head()"
   ]
  },
  {
   "cell_type": "code",
   "execution_count": 37,
   "id": "aa5e229d",
   "metadata": {},
   "outputs": [],
   "source": [
    "zno_e_model[['tertypename', 'eoname', \n",
    "               'regtypename','sextypename', \n",
    "               'regname', 'engteststatus']] = zno_e_model[['tertypename', 'eoname', \n",
    "               'regtypename','sextypename', \n",
    "               'regname', 'engteststatus']].apply(LabelEncoder().fit_transform)"
   ]
  },
  {
   "cell_type": "code",
   "execution_count": 38,
   "id": "c20f7e7c",
   "metadata": {},
   "outputs": [],
   "source": [
    "df_e_2018 = zno_e_model[(zno_e_model['year'] == 2018)]\n",
    "\n",
    "e_x_train,e_x_test, e_y_train, e_y_test = train_test_split(df_e_2018.drop('engball', axis=1), df_e_2018['engball'], random_state=42, train_size=0.7)\n"
   ]
  },
  {
   "cell_type": "code",
   "execution_count": 39,
   "id": "10dcf761",
   "metadata": {},
   "outputs": [],
   "source": [
    "n_estimators = [int(x) for x in np.linspace(start = 50, stop = 500, num = 10)]\n",
    "# Number of features to consider at every split\n",
    "max_features = ['auto', 'sqrt']\n",
    "# Maximum number of levels in tree\n",
    "max_depth = [int(x) for x in np.linspace(10, 110, num = 5)]\n",
    "max_depth.append(None)\n",
    "# Minimum number of samples required to split a node\n",
    "min_samples_split = [2, 5, 10]\n",
    "# Minimum number of samples required at each leaf node\n",
    "min_samples_leaf = [1, 2, 4]\n",
    "\n",
    "# Create the random grid\n",
    "random_grid = {'n_estimators': n_estimators,\n",
    "               'max_features': max_features,\n",
    "               'max_depth': max_depth,\n",
    "               'min_samples_split': min_samples_split,\n",
    "               'min_samples_leaf': min_samples_leaf}"
   ]
  },
  {
   "cell_type": "code",
   "execution_count": 40,
   "id": "9b982686",
   "metadata": {},
   "outputs": [
    {
     "name": "stdout",
     "output_type": "stream",
     "text": [
      "Fitting 3 folds for each of 100 candidates, totalling 300 fits\n"
     ]
    },
    {
     "name": "stderr",
     "output_type": "stream",
     "text": [
      "C:\\anaconda3\\lib\\site-packages\\sklearn\\ensemble\\_forest.py:413: FutureWarning: `max_features='auto'` has been deprecated in 1.1 and will be removed in 1.3. To keep the past behaviour, explicitly set `max_features=1.0` or remove this parameter as it is also the default value for RandomForestRegressors and ExtraTreesRegressors.\n",
      "  warn(\n"
     ]
    },
    {
     "data": {
      "text/html": [
       "<style>#sk-container-id-7 {color: black;background-color: white;}#sk-container-id-7 pre{padding: 0;}#sk-container-id-7 div.sk-toggleable {background-color: white;}#sk-container-id-7 label.sk-toggleable__label {cursor: pointer;display: block;width: 100%;margin-bottom: 0;padding: 0.3em;box-sizing: border-box;text-align: center;}#sk-container-id-7 label.sk-toggleable__label-arrow:before {content: \"▸\";float: left;margin-right: 0.25em;color: #696969;}#sk-container-id-7 label.sk-toggleable__label-arrow:hover:before {color: black;}#sk-container-id-7 div.sk-estimator:hover label.sk-toggleable__label-arrow:before {color: black;}#sk-container-id-7 div.sk-toggleable__content {max-height: 0;max-width: 0;overflow: hidden;text-align: left;background-color: #f0f8ff;}#sk-container-id-7 div.sk-toggleable__content pre {margin: 0.2em;color: black;border-radius: 0.25em;background-color: #f0f8ff;}#sk-container-id-7 input.sk-toggleable__control:checked~div.sk-toggleable__content {max-height: 200px;max-width: 100%;overflow: auto;}#sk-container-id-7 input.sk-toggleable__control:checked~label.sk-toggleable__label-arrow:before {content: \"▾\";}#sk-container-id-7 div.sk-estimator input.sk-toggleable__control:checked~label.sk-toggleable__label {background-color: #d4ebff;}#sk-container-id-7 div.sk-label input.sk-toggleable__control:checked~label.sk-toggleable__label {background-color: #d4ebff;}#sk-container-id-7 input.sk-hidden--visually {border: 0;clip: rect(1px 1px 1px 1px);clip: rect(1px, 1px, 1px, 1px);height: 1px;margin: -1px;overflow: hidden;padding: 0;position: absolute;width: 1px;}#sk-container-id-7 div.sk-estimator {font-family: monospace;background-color: #f0f8ff;border: 1px dotted black;border-radius: 0.25em;box-sizing: border-box;margin-bottom: 0.5em;}#sk-container-id-7 div.sk-estimator:hover {background-color: #d4ebff;}#sk-container-id-7 div.sk-parallel-item::after {content: \"\";width: 100%;border-bottom: 1px solid gray;flex-grow: 1;}#sk-container-id-7 div.sk-label:hover label.sk-toggleable__label {background-color: #d4ebff;}#sk-container-id-7 div.sk-serial::before {content: \"\";position: absolute;border-left: 1px solid gray;box-sizing: border-box;top: 0;bottom: 0;left: 50%;z-index: 0;}#sk-container-id-7 div.sk-serial {display: flex;flex-direction: column;align-items: center;background-color: white;padding-right: 0.2em;padding-left: 0.2em;position: relative;}#sk-container-id-7 div.sk-item {position: relative;z-index: 1;}#sk-container-id-7 div.sk-parallel {display: flex;align-items: stretch;justify-content: center;background-color: white;position: relative;}#sk-container-id-7 div.sk-item::before, #sk-container-id-7 div.sk-parallel-item::before {content: \"\";position: absolute;border-left: 1px solid gray;box-sizing: border-box;top: 0;bottom: 0;left: 50%;z-index: -1;}#sk-container-id-7 div.sk-parallel-item {display: flex;flex-direction: column;z-index: 1;position: relative;background-color: white;}#sk-container-id-7 div.sk-parallel-item:first-child::after {align-self: flex-end;width: 50%;}#sk-container-id-7 div.sk-parallel-item:last-child::after {align-self: flex-start;width: 50%;}#sk-container-id-7 div.sk-parallel-item:only-child::after {width: 0;}#sk-container-id-7 div.sk-dashed-wrapped {border: 1px dashed gray;margin: 0 0.4em 0.5em 0.4em;box-sizing: border-box;padding-bottom: 0.4em;background-color: white;}#sk-container-id-7 div.sk-label label {font-family: monospace;font-weight: bold;display: inline-block;line-height: 1.2em;}#sk-container-id-7 div.sk-label-container {text-align: center;}#sk-container-id-7 div.sk-container {/* jupyter's `normalize.less` sets `[hidden] { display: none; }` but bootstrap.min.css set `[hidden] { display: none !important; }` so we also need the `!important` here to be able to override the default hidden behavior on the sphinx rendered scikit-learn.org. See: https://github.com/scikit-learn/scikit-learn/issues/21755 */display: inline-block !important;position: relative;}#sk-container-id-7 div.sk-text-repr-fallback {display: none;}</style><div id=\"sk-container-id-7\" class=\"sk-top-container\"><div class=\"sk-text-repr-fallback\"><pre>RandomizedSearchCV(cv=3, estimator=RandomForestRegressor(), n_iter=100,\n",
       "                   n_jobs=-1,\n",
       "                   param_distributions={&#x27;max_depth&#x27;: [10, 35, 60, 85, 110,\n",
       "                                                      None],\n",
       "                                        &#x27;max_features&#x27;: [&#x27;auto&#x27;, &#x27;sqrt&#x27;],\n",
       "                                        &#x27;min_samples_leaf&#x27;: [1, 2, 4],\n",
       "                                        &#x27;min_samples_split&#x27;: [2, 5, 10],\n",
       "                                        &#x27;n_estimators&#x27;: [50, 100, 150, 200, 250,\n",
       "                                                         300, 350, 400, 450,\n",
       "                                                         500]},\n",
       "                   random_state=42, verbose=2)</pre><b>In a Jupyter environment, please rerun this cell to show the HTML representation or trust the notebook. <br />On GitHub, the HTML representation is unable to render, please try loading this page with nbviewer.org.</b></div><div class=\"sk-container\" hidden><div class=\"sk-item sk-dashed-wrapped\"><div class=\"sk-label-container\"><div class=\"sk-label sk-toggleable\"><input class=\"sk-toggleable__control sk-hidden--visually\" id=\"sk-estimator-id-13\" type=\"checkbox\" ><label for=\"sk-estimator-id-13\" class=\"sk-toggleable__label sk-toggleable__label-arrow\">RandomizedSearchCV</label><div class=\"sk-toggleable__content\"><pre>RandomizedSearchCV(cv=3, estimator=RandomForestRegressor(), n_iter=100,\n",
       "                   n_jobs=-1,\n",
       "                   param_distributions={&#x27;max_depth&#x27;: [10, 35, 60, 85, 110,\n",
       "                                                      None],\n",
       "                                        &#x27;max_features&#x27;: [&#x27;auto&#x27;, &#x27;sqrt&#x27;],\n",
       "                                        &#x27;min_samples_leaf&#x27;: [1, 2, 4],\n",
       "                                        &#x27;min_samples_split&#x27;: [2, 5, 10],\n",
       "                                        &#x27;n_estimators&#x27;: [50, 100, 150, 200, 250,\n",
       "                                                         300, 350, 400, 450,\n",
       "                                                         500]},\n",
       "                   random_state=42, verbose=2)</pre></div></div></div><div class=\"sk-parallel\"><div class=\"sk-parallel-item\"><div class=\"sk-item\"><div class=\"sk-label-container\"><div class=\"sk-label sk-toggleable\"><input class=\"sk-toggleable__control sk-hidden--visually\" id=\"sk-estimator-id-14\" type=\"checkbox\" ><label for=\"sk-estimator-id-14\" class=\"sk-toggleable__label sk-toggleable__label-arrow\">estimator: RandomForestRegressor</label><div class=\"sk-toggleable__content\"><pre>RandomForestRegressor()</pre></div></div></div><div class=\"sk-serial\"><div class=\"sk-item\"><div class=\"sk-estimator sk-toggleable\"><input class=\"sk-toggleable__control sk-hidden--visually\" id=\"sk-estimator-id-15\" type=\"checkbox\" ><label for=\"sk-estimator-id-15\" class=\"sk-toggleable__label sk-toggleable__label-arrow\">RandomForestRegressor</label><div class=\"sk-toggleable__content\"><pre>RandomForestRegressor()</pre></div></div></div></div></div></div></div></div></div></div>"
      ],
      "text/plain": [
       "RandomizedSearchCV(cv=3, estimator=RandomForestRegressor(), n_iter=100,\n",
       "                   n_jobs=-1,\n",
       "                   param_distributions={'max_depth': [10, 35, 60, 85, 110,\n",
       "                                                      None],\n",
       "                                        'max_features': ['auto', 'sqrt'],\n",
       "                                        'min_samples_leaf': [1, 2, 4],\n",
       "                                        'min_samples_split': [2, 5, 10],\n",
       "                                        'n_estimators': [50, 100, 150, 200, 250,\n",
       "                                                         300, 350, 400, 450,\n",
       "                                                         500]},\n",
       "                   random_state=42, verbose=2)"
      ]
     },
     "execution_count": 40,
     "metadata": {},
     "output_type": "execute_result"
    }
   ],
   "source": [
    "rf_e=RandomForestRegressor()\n",
    "rf_random_e = RandomizedSearchCV(estimator = rf_e, param_distributions = random_grid, n_iter = 100, cv = 3, verbose=2, random_state=42, n_jobs = -1)\n",
    "# Fit the random search model\n",
    "rf_random_e.fit(e_x_train, e_y_train)"
   ]
  },
  {
   "cell_type": "code",
   "execution_count": 41,
   "id": "2380e684",
   "metadata": {},
   "outputs": [
    {
     "data": {
      "text/html": [
       "<style>#sk-container-id-8 {color: black;background-color: white;}#sk-container-id-8 pre{padding: 0;}#sk-container-id-8 div.sk-toggleable {background-color: white;}#sk-container-id-8 label.sk-toggleable__label {cursor: pointer;display: block;width: 100%;margin-bottom: 0;padding: 0.3em;box-sizing: border-box;text-align: center;}#sk-container-id-8 label.sk-toggleable__label-arrow:before {content: \"▸\";float: left;margin-right: 0.25em;color: #696969;}#sk-container-id-8 label.sk-toggleable__label-arrow:hover:before {color: black;}#sk-container-id-8 div.sk-estimator:hover label.sk-toggleable__label-arrow:before {color: black;}#sk-container-id-8 div.sk-toggleable__content {max-height: 0;max-width: 0;overflow: hidden;text-align: left;background-color: #f0f8ff;}#sk-container-id-8 div.sk-toggleable__content pre {margin: 0.2em;color: black;border-radius: 0.25em;background-color: #f0f8ff;}#sk-container-id-8 input.sk-toggleable__control:checked~div.sk-toggleable__content {max-height: 200px;max-width: 100%;overflow: auto;}#sk-container-id-8 input.sk-toggleable__control:checked~label.sk-toggleable__label-arrow:before {content: \"▾\";}#sk-container-id-8 div.sk-estimator input.sk-toggleable__control:checked~label.sk-toggleable__label {background-color: #d4ebff;}#sk-container-id-8 div.sk-label input.sk-toggleable__control:checked~label.sk-toggleable__label {background-color: #d4ebff;}#sk-container-id-8 input.sk-hidden--visually {border: 0;clip: rect(1px 1px 1px 1px);clip: rect(1px, 1px, 1px, 1px);height: 1px;margin: -1px;overflow: hidden;padding: 0;position: absolute;width: 1px;}#sk-container-id-8 div.sk-estimator {font-family: monospace;background-color: #f0f8ff;border: 1px dotted black;border-radius: 0.25em;box-sizing: border-box;margin-bottom: 0.5em;}#sk-container-id-8 div.sk-estimator:hover {background-color: #d4ebff;}#sk-container-id-8 div.sk-parallel-item::after {content: \"\";width: 100%;border-bottom: 1px solid gray;flex-grow: 1;}#sk-container-id-8 div.sk-label:hover label.sk-toggleable__label {background-color: #d4ebff;}#sk-container-id-8 div.sk-serial::before {content: \"\";position: absolute;border-left: 1px solid gray;box-sizing: border-box;top: 0;bottom: 0;left: 50%;z-index: 0;}#sk-container-id-8 div.sk-serial {display: flex;flex-direction: column;align-items: center;background-color: white;padding-right: 0.2em;padding-left: 0.2em;position: relative;}#sk-container-id-8 div.sk-item {position: relative;z-index: 1;}#sk-container-id-8 div.sk-parallel {display: flex;align-items: stretch;justify-content: center;background-color: white;position: relative;}#sk-container-id-8 div.sk-item::before, #sk-container-id-8 div.sk-parallel-item::before {content: \"\";position: absolute;border-left: 1px solid gray;box-sizing: border-box;top: 0;bottom: 0;left: 50%;z-index: -1;}#sk-container-id-8 div.sk-parallel-item {display: flex;flex-direction: column;z-index: 1;position: relative;background-color: white;}#sk-container-id-8 div.sk-parallel-item:first-child::after {align-self: flex-end;width: 50%;}#sk-container-id-8 div.sk-parallel-item:last-child::after {align-self: flex-start;width: 50%;}#sk-container-id-8 div.sk-parallel-item:only-child::after {width: 0;}#sk-container-id-8 div.sk-dashed-wrapped {border: 1px dashed gray;margin: 0 0.4em 0.5em 0.4em;box-sizing: border-box;padding-bottom: 0.4em;background-color: white;}#sk-container-id-8 div.sk-label label {font-family: monospace;font-weight: bold;display: inline-block;line-height: 1.2em;}#sk-container-id-8 div.sk-label-container {text-align: center;}#sk-container-id-8 div.sk-container {/* jupyter's `normalize.less` sets `[hidden] { display: none; }` but bootstrap.min.css set `[hidden] { display: none !important; }` so we also need the `!important` here to be able to override the default hidden behavior on the sphinx rendered scikit-learn.org. See: https://github.com/scikit-learn/scikit-learn/issues/21755 */display: inline-block !important;position: relative;}#sk-container-id-8 div.sk-text-repr-fallback {display: none;}</style><div id=\"sk-container-id-8\" class=\"sk-top-container\"><div class=\"sk-text-repr-fallback\"><pre>RandomForestRegressor(max_depth=60, max_features=&#x27;auto&#x27;, min_samples_leaf=4,\n",
       "                      min_samples_split=10, n_estimators=450)</pre><b>In a Jupyter environment, please rerun this cell to show the HTML representation or trust the notebook. <br />On GitHub, the HTML representation is unable to render, please try loading this page with nbviewer.org.</b></div><div class=\"sk-container\" hidden><div class=\"sk-item\"><div class=\"sk-estimator sk-toggleable\"><input class=\"sk-toggleable__control sk-hidden--visually\" id=\"sk-estimator-id-16\" type=\"checkbox\" checked><label for=\"sk-estimator-id-16\" class=\"sk-toggleable__label sk-toggleable__label-arrow\">RandomForestRegressor</label><div class=\"sk-toggleable__content\"><pre>RandomForestRegressor(max_depth=60, max_features=&#x27;auto&#x27;, min_samples_leaf=4,\n",
       "                      min_samples_split=10, n_estimators=450)</pre></div></div></div></div></div>"
      ],
      "text/plain": [
       "RandomForestRegressor(max_depth=60, max_features='auto', min_samples_leaf=4,\n",
       "                      min_samples_split=10, n_estimators=450)"
      ]
     },
     "execution_count": 41,
     "metadata": {},
     "output_type": "execute_result"
    }
   ],
   "source": [
    "rf_random_e.best_estimator_"
   ]
  },
  {
   "cell_type": "code",
   "execution_count": 78,
   "id": "68805e81",
   "metadata": {},
   "outputs": [
    {
     "name": "stderr",
     "output_type": "stream",
     "text": [
      "C:\\anaconda3\\lib\\site-packages\\sklearn\\ensemble\\_forest.py:413: FutureWarning: `max_features='auto'` has been deprecated in 1.1 and will be removed in 1.3. To keep the past behaviour, explicitly set `max_features=1.0` or remove this parameter as it is also the default value for RandomForestRegressors and ExtraTreesRegressors.\n",
      "  warn(\n"
     ]
    },
    {
     "data": {
      "text/html": [
       "<style>#sk-container-id-13 {color: black;background-color: white;}#sk-container-id-13 pre{padding: 0;}#sk-container-id-13 div.sk-toggleable {background-color: white;}#sk-container-id-13 label.sk-toggleable__label {cursor: pointer;display: block;width: 100%;margin-bottom: 0;padding: 0.3em;box-sizing: border-box;text-align: center;}#sk-container-id-13 label.sk-toggleable__label-arrow:before {content: \"▸\";float: left;margin-right: 0.25em;color: #696969;}#sk-container-id-13 label.sk-toggleable__label-arrow:hover:before {color: black;}#sk-container-id-13 div.sk-estimator:hover label.sk-toggleable__label-arrow:before {color: black;}#sk-container-id-13 div.sk-toggleable__content {max-height: 0;max-width: 0;overflow: hidden;text-align: left;background-color: #f0f8ff;}#sk-container-id-13 div.sk-toggleable__content pre {margin: 0.2em;color: black;border-radius: 0.25em;background-color: #f0f8ff;}#sk-container-id-13 input.sk-toggleable__control:checked~div.sk-toggleable__content {max-height: 200px;max-width: 100%;overflow: auto;}#sk-container-id-13 input.sk-toggleable__control:checked~label.sk-toggleable__label-arrow:before {content: \"▾\";}#sk-container-id-13 div.sk-estimator input.sk-toggleable__control:checked~label.sk-toggleable__label {background-color: #d4ebff;}#sk-container-id-13 div.sk-label input.sk-toggleable__control:checked~label.sk-toggleable__label {background-color: #d4ebff;}#sk-container-id-13 input.sk-hidden--visually {border: 0;clip: rect(1px 1px 1px 1px);clip: rect(1px, 1px, 1px, 1px);height: 1px;margin: -1px;overflow: hidden;padding: 0;position: absolute;width: 1px;}#sk-container-id-13 div.sk-estimator {font-family: monospace;background-color: #f0f8ff;border: 1px dotted black;border-radius: 0.25em;box-sizing: border-box;margin-bottom: 0.5em;}#sk-container-id-13 div.sk-estimator:hover {background-color: #d4ebff;}#sk-container-id-13 div.sk-parallel-item::after {content: \"\";width: 100%;border-bottom: 1px solid gray;flex-grow: 1;}#sk-container-id-13 div.sk-label:hover label.sk-toggleable__label {background-color: #d4ebff;}#sk-container-id-13 div.sk-serial::before {content: \"\";position: absolute;border-left: 1px solid gray;box-sizing: border-box;top: 0;bottom: 0;left: 50%;z-index: 0;}#sk-container-id-13 div.sk-serial {display: flex;flex-direction: column;align-items: center;background-color: white;padding-right: 0.2em;padding-left: 0.2em;position: relative;}#sk-container-id-13 div.sk-item {position: relative;z-index: 1;}#sk-container-id-13 div.sk-parallel {display: flex;align-items: stretch;justify-content: center;background-color: white;position: relative;}#sk-container-id-13 div.sk-item::before, #sk-container-id-13 div.sk-parallel-item::before {content: \"\";position: absolute;border-left: 1px solid gray;box-sizing: border-box;top: 0;bottom: 0;left: 50%;z-index: -1;}#sk-container-id-13 div.sk-parallel-item {display: flex;flex-direction: column;z-index: 1;position: relative;background-color: white;}#sk-container-id-13 div.sk-parallel-item:first-child::after {align-self: flex-end;width: 50%;}#sk-container-id-13 div.sk-parallel-item:last-child::after {align-self: flex-start;width: 50%;}#sk-container-id-13 div.sk-parallel-item:only-child::after {width: 0;}#sk-container-id-13 div.sk-dashed-wrapped {border: 1px dashed gray;margin: 0 0.4em 0.5em 0.4em;box-sizing: border-box;padding-bottom: 0.4em;background-color: white;}#sk-container-id-13 div.sk-label label {font-family: monospace;font-weight: bold;display: inline-block;line-height: 1.2em;}#sk-container-id-13 div.sk-label-container {text-align: center;}#sk-container-id-13 div.sk-container {/* jupyter's `normalize.less` sets `[hidden] { display: none; }` but bootstrap.min.css set `[hidden] { display: none !important; }` so we also need the `!important` here to be able to override the default hidden behavior on the sphinx rendered scikit-learn.org. See: https://github.com/scikit-learn/scikit-learn/issues/21755 */display: inline-block !important;position: relative;}#sk-container-id-13 div.sk-text-repr-fallback {display: none;}</style><div id=\"sk-container-id-13\" class=\"sk-top-container\"><div class=\"sk-text-repr-fallback\"><pre>RandomForestRegressor(max_depth=60, max_features=&#x27;auto&#x27;, min_samples_leaf=4,\n",
       "                      min_samples_split=10, n_estimators=450)</pre><b>In a Jupyter environment, please rerun this cell to show the HTML representation or trust the notebook. <br />On GitHub, the HTML representation is unable to render, please try loading this page with nbviewer.org.</b></div><div class=\"sk-container\" hidden><div class=\"sk-item\"><div class=\"sk-estimator sk-toggleable\"><input class=\"sk-toggleable__control sk-hidden--visually\" id=\"sk-estimator-id-21\" type=\"checkbox\" checked><label for=\"sk-estimator-id-21\" class=\"sk-toggleable__label sk-toggleable__label-arrow\">RandomForestRegressor</label><div class=\"sk-toggleable__content\"><pre>RandomForestRegressor(max_depth=60, max_features=&#x27;auto&#x27;, min_samples_leaf=4,\n",
       "                      min_samples_split=10, n_estimators=450)</pre></div></div></div></div></div>"
      ],
      "text/plain": [
       "RandomForestRegressor(max_depth=60, max_features='auto', min_samples_leaf=4,\n",
       "                      min_samples_split=10, n_estimators=450)"
      ]
     },
     "execution_count": 78,
     "metadata": {},
     "output_type": "execute_result"
    }
   ],
   "source": [
    "best_random_e = RandomForestRegressor(max_depth=60, max_features='auto', min_samples_leaf=4,\n",
    "                      min_samples_split=10, n_estimators=450)\n",
    "best_random_e.fit(df_e_2018.drop('engball', axis=1), df_e_2018['engball'])"
   ]
  },
  {
   "cell_type": "code",
   "execution_count": 79,
   "id": "ec6b3113",
   "metadata": {},
   "outputs": [],
   "source": [
    "df_e_2019 = zno_e_model[(zno_e_model['year'] == 2019)]\n",
    "df_e_2020 = zno_e_model[(zno_e_model['year'] == 2020)]\n",
    "df_e_2021 = zno_e_model[(zno_e_model['year'] == 2021)]"
   ]
  },
  {
   "cell_type": "code",
   "execution_count": 80,
   "id": "31ae46e9",
   "metadata": {},
   "outputs": [],
   "source": [
    "y_pred_2019_e = best_random_e.predict(df_e_2019.drop('engball', axis=1))\n",
    "y_pred_2020_e = best_random_e.predict(df_e_2020.drop('engball', axis=1))\n",
    "y_pred_2021_e = best_random_e.predict(df_e_2021.drop('engball', axis=1))"
   ]
  },
  {
   "cell_type": "code",
   "execution_count": 81,
   "id": "ef7f2a57",
   "metadata": {},
   "outputs": [],
   "source": [
    "e_2019 = pd.concat([df_e_2019['engball'].reset_index().drop('index', axis=1),pd.Series(y_pred_2019_e)],axis=1)\n",
    "e_2020 = pd.concat([df_e_2020['engball'].reset_index().drop('index', axis=1),pd.Series(y_pred_2020_e)],axis=1)\n",
    "e_2021 = pd.concat([df_e_2021['engball'].reset_index().drop('index', axis=1),pd.Series(y_pred_2021_e)],axis=1)\n"
   ]
  },
  {
   "cell_type": "code",
   "execution_count": 84,
   "id": "f6626695",
   "metadata": {},
   "outputs": [
    {
     "name": "stdout",
     "output_type": "stream",
     "text": [
      "Percentage error for 2019 year 27.959639184843\n",
      "Percentage error for 2020 year 32.38471451509694\n",
      "Percentage error for 2021 year 31.28622209945464\n"
     ]
    }
   ],
   "source": [
    "print(f\"Percentage error for 2019 year {mean_absolute_percentage_error(np.array(df_e_2019['engball']), y_pred_2019_e)*100}\")\n",
    "print(f\"Percentage error for 2020 year {mean_absolute_percentage_error(np.array(df_e_2020['engball']), y_pred_2020_e)*100}\")\n",
    "print(f\"Percentage error for 2021 year {mean_absolute_percentage_error(np.array(df_e_2021['engball']), y_pred_2021_e)*100}\")"
   ]
  },
  {
   "cell_type": "code",
   "execution_count": 86,
   "id": "b2017482",
   "metadata": {},
   "outputs": [
    {
     "data": {
      "image/png": "[encoded data removed]",
      "text/plain": [
       "<Figure size 1000x700 with 1 Axes>"
      ]
     },
     "metadata": {},
     "output_type": "display_data"
    }
   ],
   "source": [
    "\n",
    "# merge the three dataframes into a single dataframe\n",
    "df_e = pd.concat([e_2019, e_2020, e_2021], axis=0).rename(columns={'engball':'real', 0:'predicted'})\n",
    "df_e['Year'] = ['2019']*len(e_2019) + ['2020']*len(e_2020) + ['2021']*len(e_2021)\n",
    "\n",
    "# melt the dataframe to make it \"tidy\"\n",
    "df_melt_e = pd.melt(df_e, id_vars=['Year'], value_vars=['predicted', 'real'], var_name='Type', value_name='Score')\n",
    "fig = plt.figure(figsize =(10, 7))\n",
    "# create the boxplot using Seaborn\n",
    "sns.set_theme(style=\"ticks\", palette=\"pastel\")\n",
    "sns.boxplot(x='Year', y='Score', hue='Type', data=df_melt_e, palette='Set3', width=0.6)\n",
    "# Move the hue legend to the right side\n",
    "plt.legend(loc='center right', bbox_to_anchor=(1.2, 0.5), ncol=1)\n",
    "\n",
    "# customize the plot\n",
    "plt.title(\"English, predicted and real\")\n",
    "plt.grid(True)\n",
    "\n",
    "# show the plot\n",
    "plt.show()\n",
    "# Draw a nested boxplot to show bills by day and time\n",
    "\n"
   ]
  },
  {
   "attachments": {},
   "cell_type": "markdown",
   "id": "858cba9a",
   "metadata": {},
   "source": [
    "When comparing the predicted distribution and the actual values in a given year, the difference between the median values of the English test changes very little, which does not allow us to say that the lockdown significantly affected any English teaching or that the tests were of a different complexity."
   ]
  },
  {
   "cell_type": "code",
   "execution_count": null,
   "id": "c216bab5",
   "metadata": {},
   "outputs": [],
   "source": []
  }
 ],
 "metadata": {
  "kernelspec": {
   "display_name": "Python 3",
   "language": "python",
   "name": "python3"
  },
  "language_info": {
   "codemirror_mode": {
    "name": "ipython",
    "version": 3
   },
   "file_extension": ".py",
   "mimetype": "text/x-python",
   "name": "python",
   "nbconvert_exporter": "python",
   "pygments_lexer": "ipython3",
   "version": "3.9.10 (main, Jan 15 2022, 11:40:53) \n[Clang 13.0.0 (clang-1300.0.29.3)]"
  },
  "vscode": {
   "interpreter": {
    "hash": "b0fa6594d8f4cbf19f97940f81e996739fb7646882a419484c72d19e05852a7e"
   }
  }
 },
 "nbformat": 4,
 "nbformat_minor": 5
}
